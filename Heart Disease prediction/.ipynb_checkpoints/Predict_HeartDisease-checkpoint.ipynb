{
 "cells": [
  {
   "cell_type": "code",
   "execution_count": 28,
   "id": "3571d8df",
   "metadata": {},
   "outputs": [],
   "source": [
    "import numpy as np \n",
    "import pandas as pd\n",
    "import seaborn as sns\n",
    "import matplotlib.pyplot as plt"
   ]
  },
  {
   "cell_type": "markdown",
   "id": "dedb8849",
   "metadata": {},
   "source": [
    "# 1. Read in Data and Explore Data Structure"
   ]
  },
  {
   "cell_type": "code",
   "execution_count": 29,
   "id": "8d78b99b",
   "metadata": {
    "scrolled": true
   },
   "outputs": [
    {
     "data": {
      "text/html": [
       "<style type=\"text/css\">\n",
       "#T_d45cc_row0_col0 {\n",
       "  background-color: #bebada;\n",
       "  color: #000000;\n",
       "}\n",
       "#T_d45cc_row0_col3 {\n",
       "  background-color: #80b1d3;\n",
       "  color: #f1f1f1;\n",
       "}\n",
       "#T_d45cc_row0_col4, #T_d45cc_row0_col7, #T_d45cc_row1_col3, #T_d45cc_row1_col11, #T_d45cc_row2_col4, #T_d45cc_row3_col9, #T_d45cc_row3_col11, #T_d45cc_row4_col0 {\n",
       "  background-color: #ffed6f;\n",
       "  color: #000000;\n",
       "}\n",
       "#T_d45cc_row0_col5, #T_d45cc_row0_col9, #T_d45cc_row0_col11, #T_d45cc_row1_col4, #T_d45cc_row1_col5, #T_d45cc_row2_col0, #T_d45cc_row2_col3, #T_d45cc_row2_col5, #T_d45cc_row2_col7, #T_d45cc_row2_col9, #T_d45cc_row2_col11, #T_d45cc_row3_col5, #T_d45cc_row4_col5, #T_d45cc_row4_col9, #T_d45cc_row4_col11 {\n",
       "  background-color: #8dd3c7;\n",
       "  color: #000000;\n",
       "}\n",
       "#T_d45cc_row1_col0, #T_d45cc_row1_col9, #T_d45cc_row4_col3 {\n",
       "  background-color: #d9d9d9;\n",
       "  color: #000000;\n",
       "}\n",
       "#T_d45cc_row1_col7 {\n",
       "  background-color: #bc80bd;\n",
       "  color: #f1f1f1;\n",
       "}\n",
       "#T_d45cc_row3_col0 {\n",
       "  background-color: #fccde5;\n",
       "  color: #000000;\n",
       "}\n",
       "#T_d45cc_row3_col3, #T_d45cc_row3_col4, #T_d45cc_row4_col7 {\n",
       "  background-color: #fb8072;\n",
       "  color: #f1f1f1;\n",
       "}\n",
       "#T_d45cc_row3_col7, #T_d45cc_row4_col4 {\n",
       "  background-color: #ffffb3;\n",
       "  color: #000000;\n",
       "}\n",
       "</style>\n",
       "<table id=\"T_d45cc\">\n",
       "  <thead>\n",
       "    <tr>\n",
       "      <th class=\"blank level0\" >&nbsp;</th>\n",
       "      <th id=\"T_d45cc_level0_col0\" class=\"col_heading level0 col0\" >Age</th>\n",
       "      <th id=\"T_d45cc_level0_col1\" class=\"col_heading level0 col1\" >Sex</th>\n",
       "      <th id=\"T_d45cc_level0_col2\" class=\"col_heading level0 col2\" >ChestPainType</th>\n",
       "      <th id=\"T_d45cc_level0_col3\" class=\"col_heading level0 col3\" >RestingBP</th>\n",
       "      <th id=\"T_d45cc_level0_col4\" class=\"col_heading level0 col4\" >Cholesterol</th>\n",
       "      <th id=\"T_d45cc_level0_col5\" class=\"col_heading level0 col5\" >FastingBS</th>\n",
       "      <th id=\"T_d45cc_level0_col6\" class=\"col_heading level0 col6\" >RestingECG</th>\n",
       "      <th id=\"T_d45cc_level0_col7\" class=\"col_heading level0 col7\" >MaxHR</th>\n",
       "      <th id=\"T_d45cc_level0_col8\" class=\"col_heading level0 col8\" >ExerciseAngina</th>\n",
       "      <th id=\"T_d45cc_level0_col9\" class=\"col_heading level0 col9\" >Oldpeak</th>\n",
       "      <th id=\"T_d45cc_level0_col10\" class=\"col_heading level0 col10\" >ST_Slope</th>\n",
       "      <th id=\"T_d45cc_level0_col11\" class=\"col_heading level0 col11\" >HeartDisease</th>\n",
       "    </tr>\n",
       "  </thead>\n",
       "  <tbody>\n",
       "    <tr>\n",
       "      <th id=\"T_d45cc_level0_row0\" class=\"row_heading level0 row0\" >0</th>\n",
       "      <td id=\"T_d45cc_row0_col0\" class=\"data row0 col0\" >40</td>\n",
       "      <td id=\"T_d45cc_row0_col1\" class=\"data row0 col1\" >M</td>\n",
       "      <td id=\"T_d45cc_row0_col2\" class=\"data row0 col2\" >ATA</td>\n",
       "      <td id=\"T_d45cc_row0_col3\" class=\"data row0 col3\" >140</td>\n",
       "      <td id=\"T_d45cc_row0_col4\" class=\"data row0 col4\" >289</td>\n",
       "      <td id=\"T_d45cc_row0_col5\" class=\"data row0 col5\" >0</td>\n",
       "      <td id=\"T_d45cc_row0_col6\" class=\"data row0 col6\" >Normal</td>\n",
       "      <td id=\"T_d45cc_row0_col7\" class=\"data row0 col7\" >172</td>\n",
       "      <td id=\"T_d45cc_row0_col8\" class=\"data row0 col8\" >N</td>\n",
       "      <td id=\"T_d45cc_row0_col9\" class=\"data row0 col9\" >0.000000</td>\n",
       "      <td id=\"T_d45cc_row0_col10\" class=\"data row0 col10\" >Up</td>\n",
       "      <td id=\"T_d45cc_row0_col11\" class=\"data row0 col11\" >0</td>\n",
       "    </tr>\n",
       "    <tr>\n",
       "      <th id=\"T_d45cc_level0_row1\" class=\"row_heading level0 row1\" >1</th>\n",
       "      <td id=\"T_d45cc_row1_col0\" class=\"data row1 col0\" >49</td>\n",
       "      <td id=\"T_d45cc_row1_col1\" class=\"data row1 col1\" >F</td>\n",
       "      <td id=\"T_d45cc_row1_col2\" class=\"data row1 col2\" >NAP</td>\n",
       "      <td id=\"T_d45cc_row1_col3\" class=\"data row1 col3\" >160</td>\n",
       "      <td id=\"T_d45cc_row1_col4\" class=\"data row1 col4\" >180</td>\n",
       "      <td id=\"T_d45cc_row1_col5\" class=\"data row1 col5\" >0</td>\n",
       "      <td id=\"T_d45cc_row1_col6\" class=\"data row1 col6\" >Normal</td>\n",
       "      <td id=\"T_d45cc_row1_col7\" class=\"data row1 col7\" >156</td>\n",
       "      <td id=\"T_d45cc_row1_col8\" class=\"data row1 col8\" >N</td>\n",
       "      <td id=\"T_d45cc_row1_col9\" class=\"data row1 col9\" >1.000000</td>\n",
       "      <td id=\"T_d45cc_row1_col10\" class=\"data row1 col10\" >Flat</td>\n",
       "      <td id=\"T_d45cc_row1_col11\" class=\"data row1 col11\" >1</td>\n",
       "    </tr>\n",
       "    <tr>\n",
       "      <th id=\"T_d45cc_level0_row2\" class=\"row_heading level0 row2\" >2</th>\n",
       "      <td id=\"T_d45cc_row2_col0\" class=\"data row2 col0\" >37</td>\n",
       "      <td id=\"T_d45cc_row2_col1\" class=\"data row2 col1\" >M</td>\n",
       "      <td id=\"T_d45cc_row2_col2\" class=\"data row2 col2\" >ATA</td>\n",
       "      <td id=\"T_d45cc_row2_col3\" class=\"data row2 col3\" >130</td>\n",
       "      <td id=\"T_d45cc_row2_col4\" class=\"data row2 col4\" >283</td>\n",
       "      <td id=\"T_d45cc_row2_col5\" class=\"data row2 col5\" >0</td>\n",
       "      <td id=\"T_d45cc_row2_col6\" class=\"data row2 col6\" >ST</td>\n",
       "      <td id=\"T_d45cc_row2_col7\" class=\"data row2 col7\" >98</td>\n",
       "      <td id=\"T_d45cc_row2_col8\" class=\"data row2 col8\" >N</td>\n",
       "      <td id=\"T_d45cc_row2_col9\" class=\"data row2 col9\" >0.000000</td>\n",
       "      <td id=\"T_d45cc_row2_col10\" class=\"data row2 col10\" >Up</td>\n",
       "      <td id=\"T_d45cc_row2_col11\" class=\"data row2 col11\" >0</td>\n",
       "    </tr>\n",
       "    <tr>\n",
       "      <th id=\"T_d45cc_level0_row3\" class=\"row_heading level0 row3\" >3</th>\n",
       "      <td id=\"T_d45cc_row3_col0\" class=\"data row3 col0\" >48</td>\n",
       "      <td id=\"T_d45cc_row3_col1\" class=\"data row3 col1\" >F</td>\n",
       "      <td id=\"T_d45cc_row3_col2\" class=\"data row3 col2\" >ASY</td>\n",
       "      <td id=\"T_d45cc_row3_col3\" class=\"data row3 col3\" >138</td>\n",
       "      <td id=\"T_d45cc_row3_col4\" class=\"data row3 col4\" >214</td>\n",
       "      <td id=\"T_d45cc_row3_col5\" class=\"data row3 col5\" >0</td>\n",
       "      <td id=\"T_d45cc_row3_col6\" class=\"data row3 col6\" >Normal</td>\n",
       "      <td id=\"T_d45cc_row3_col7\" class=\"data row3 col7\" >108</td>\n",
       "      <td id=\"T_d45cc_row3_col8\" class=\"data row3 col8\" >Y</td>\n",
       "      <td id=\"T_d45cc_row3_col9\" class=\"data row3 col9\" >1.500000</td>\n",
       "      <td id=\"T_d45cc_row3_col10\" class=\"data row3 col10\" >Flat</td>\n",
       "      <td id=\"T_d45cc_row3_col11\" class=\"data row3 col11\" >1</td>\n",
       "    </tr>\n",
       "    <tr>\n",
       "      <th id=\"T_d45cc_level0_row4\" class=\"row_heading level0 row4\" >4</th>\n",
       "      <td id=\"T_d45cc_row4_col0\" class=\"data row4 col0\" >54</td>\n",
       "      <td id=\"T_d45cc_row4_col1\" class=\"data row4 col1\" >M</td>\n",
       "      <td id=\"T_d45cc_row4_col2\" class=\"data row4 col2\" >NAP</td>\n",
       "      <td id=\"T_d45cc_row4_col3\" class=\"data row4 col3\" >150</td>\n",
       "      <td id=\"T_d45cc_row4_col4\" class=\"data row4 col4\" >195</td>\n",
       "      <td id=\"T_d45cc_row4_col5\" class=\"data row4 col5\" >0</td>\n",
       "      <td id=\"T_d45cc_row4_col6\" class=\"data row4 col6\" >Normal</td>\n",
       "      <td id=\"T_d45cc_row4_col7\" class=\"data row4 col7\" >122</td>\n",
       "      <td id=\"T_d45cc_row4_col8\" class=\"data row4 col8\" >N</td>\n",
       "      <td id=\"T_d45cc_row4_col9\" class=\"data row4 col9\" >0.000000</td>\n",
       "      <td id=\"T_d45cc_row4_col10\" class=\"data row4 col10\" >Up</td>\n",
       "      <td id=\"T_d45cc_row4_col11\" class=\"data row4 col11\" >0</td>\n",
       "    </tr>\n",
       "  </tbody>\n",
       "</table>\n"
      ],
      "text/plain": [
       "<pandas.io.formats.style.Styler at 0x1061acdf0>"
      ]
     },
     "execution_count": 29,
     "metadata": {},
     "output_type": "execute_result"
    }
   ],
   "source": [
    "df= pd.read_csv('../Data/heart.csv')\n",
    "df.head(5).style.background_gradient(cmap=\"Set3\")"
   ]
  },
  {
   "cell_type": "markdown",
   "id": "1facc45a",
   "metadata": {},
   "source": [
    "* Catagorical features are the columns in grey.\n",
    "\n",
    "* Numerical features are the columns that are coloured."
   ]
  },
  {
   "cell_type": "code",
   "execution_count": 30,
   "id": "3433fc85",
   "metadata": {},
   "outputs": [
    {
     "name": "stdout",
     "output_type": "stream",
     "text": [
      "\u001b[1mInformation:\u001b[0m\n",
      "<class 'pandas.core.frame.DataFrame'>\n",
      "RangeIndex: 918 entries, 0 to 917\n",
      "Data columns (total 12 columns):\n",
      " #   Column          Non-Null Count  Dtype  \n",
      "---  ------          --------------  -----  \n",
      " 0   Age             918 non-null    int64  \n",
      " 1   Sex             918 non-null    object \n",
      " 2   ChestPainType   918 non-null    object \n",
      " 3   RestingBP       918 non-null    int64  \n",
      " 4   Cholesterol     918 non-null    int64  \n",
      " 5   FastingBS       918 non-null    int64  \n",
      " 6   RestingECG      918 non-null    object \n",
      " 7   MaxHR           918 non-null    int64  \n",
      " 8   ExerciseAngina  918 non-null    object \n",
      " 9   Oldpeak         918 non-null    float64\n",
      " 10  ST_Slope        918 non-null    object \n",
      " 11  HeartDisease    918 non-null    int64  \n",
      "dtypes: float64(1), int64(6), object(5)\n",
      "memory usage: 86.2+ KB\n",
      "None\n",
      "\n",
      "\u001b[1mData Types:\u001b[0m\n",
      "Age                 int64\n",
      "Sex                object\n",
      "ChestPainType      object\n",
      "RestingBP           int64\n",
      "Cholesterol         int64\n",
      "FastingBS           int64\n",
      "RestingECG         object\n",
      "MaxHR               int64\n",
      "ExerciseAngina     object\n",
      "Oldpeak           float64\n",
      "ST_Slope           object\n",
      "HeartDisease        int64\n",
      "dtype: object\n",
      "\n",
      "\u001b[1mNull Values:\u001b[0m\n",
      "Age               0\n",
      "Sex               0\n",
      "ChestPainType     0\n",
      "RestingBP         0\n",
      "Cholesterol       0\n",
      "FastingBS         0\n",
      "RestingECG        0\n",
      "MaxHR             0\n",
      "ExerciseAngina    0\n",
      "Oldpeak           0\n",
      "ST_Slope          0\n",
      "HeartDisease      0\n",
      "dtype: int64\n",
      "\n",
      "\u001b[1mMissing Values:\u001b[0m\n",
      "Age               0\n",
      "Sex               0\n",
      "ChestPainType     0\n",
      "RestingBP         0\n",
      "Cholesterol       0\n",
      "FastingBS         0\n",
      "RestingECG        0\n",
      "MaxHR             0\n",
      "ExerciseAngina    0\n",
      "Oldpeak           0\n",
      "ST_Slope          0\n",
      "HeartDisease      0\n",
      "dtype: int64\n",
      "\n",
      "\u001b[1mData Shape:\u001b[0m\n",
      "(918, 12)\n",
      "\n"
     ]
    }
   ],
   "source": [
    "def DataExploration(data):\n",
    "    \"\"\"\n",
    "    This function explores the structure of a pandas DataFrame by displaying key information.\n",
    "    \n",
    "    Args:\n",
    "        data (DataFrame): A pandas DataFrame to be explored.\n",
    "    \n",
    "    Returns:\n",
    "        None: Prints the following infor about the DataFrame:\n",
    "            - General info (data types, memory usage, etc.)\n",
    "            - Data types of each column\n",
    "            - Number of null and missing values per column\n",
    "            - Shape of the DataFrame [rows, columns]\n",
    "    \"\"\"\n",
    "    print(f\"\\033[1mInformation:\\033[0m\")\n",
    "    print(f\"{data.info()}\\n\")\n",
    "    print(f\"\\033[1mData Types:\\033[0m\\n{data.dtypes}\\n\")\n",
    "    print(f\"\\033[1mNull Values:\\033[0m\\n{data.isna().sum()}\\n\")\n",
    "    print(f\"\\033[1mMissing Values:\\033[0m\\n{data.isnull().sum()}\\n\")\n",
    "    print(f\"\\033[1mData Shape:\\033[0m\\n{data.shape}\\n\")\n",
    "\n",
    "DataExploration(df)"
   ]
  },
  {
   "cell_type": "markdown",
   "id": "9c87eafe",
   "metadata": {},
   "source": [
    "#### Quick exploration of our data set shows that there are no missing or null values."
   ]
  },
  {
   "cell_type": "markdown",
   "id": "646f2eea",
   "metadata": {},
   "source": [
    "# 2. Data Analysis \n",
    "\n",
    "## <span style=\"color:blue\">Counts and Percentages of HeartDisease</span>"
   ]
  },
  {
   "cell_type": "code",
   "execution_count": 31,
   "id": "03c10075",
   "metadata": {},
   "outputs": [
    {
     "name": "stdout",
     "output_type": "stream",
     "text": [
      "                      Count   Percentage\n",
      "No Heart Disease (0): 410   44.66%\n",
      "Heart Disease (1):    508   55.34%\n",
      "\n",
      "-> Number of males: 725 (78.98%)\n",
      "-> Number of females: 193 (21.02%)\n"
     ]
    }
   ],
   "source": [
    "# Get the counts and percentages of HeartDisease\n",
    "heart_disease_counts = df['HeartDisease'].value_counts()\n",
    "heart_disease_percents = heart_disease_counts / len(df) * 100\n",
    "# Counts and percentage of HeartDisease values\n",
    "count = df['HeartDisease'].value_counts()\n",
    "percentage = df['HeartDisease'].value_counts(normalize=True) * 100\n",
    "\n",
    "\n",
    "\n",
    "# Convert all values in the 'Sex' column to uppercase\n",
    "df['Sex'] = df['Sex'].str.upper()\n",
    "# Calculate amount and percentage of males and females\n",
    "total_count = len(df)\n",
    "male_count = (df['Sex'] == 'M').sum()\n",
    "female_count = (df['Sex'] == 'F').sum()\n",
    "\n",
    "male_percent = male_count / total_count * 100\n",
    "female_percent = female_count / total_count * 100\n",
    "\n",
    "\n",
    "print('                      Count   Percentage')\n",
    "print('No Heart Disease (0):', count[0], f'  {percentage[0]:.2f}%')\n",
    "print('Heart Disease (1):   ', count[1], f'  {percentage[1]:.2f}%')\n",
    "\n",
    "print(f'\\n-> Number of males: {male_count} ({male_percent:.2f}%)')\n",
    "print(f'-> Number of females: {female_count} ({female_percent:.2f}%)')"
   ]
  },
  {
   "cell_type": "code",
   "execution_count": 32,
   "id": "78906713",
   "metadata": {},
   "outputs": [
    {
     "name": "stdout",
     "output_type": "stream",
     "text": [
      "Number of males: 725 (78.98%)\n",
      "Number of females: 193 (21.02%)\n"
     ]
    }
   ],
   "source": [
    "# Convert all values in the 'Sex' column to uppercase\n",
    "df['Sex'] = df['Sex'].str.upper()\n",
    "\n",
    "# Compute the number and percentage of males and females in the dataset\n",
    "total_count = len(df)\n",
    "male_count = (df['Sex'] == 'M').sum()\n",
    "female_count = (df['Sex'] == 'F').sum()\n",
    "\n",
    "male_percent = male_count / total_count * 100\n",
    "female_percent = female_count / total_count * 100\n",
    "\n",
    "print(f'Number of males: {male_count} ({male_percent:.2f}%)')\n",
    "print(f'Number of females: {female_count} ({female_percent:.2f}%)')"
   ]
  },
  {
   "cell_type": "markdown",
   "id": "f3cb2419",
   "metadata": {},
   "source": [
    "## <span style=\"color:blue\">Mean Values of the Features</span>"
   ]
  },
  {
   "cell_type": "code",
   "execution_count": 33,
   "id": "1fde1b01",
   "metadata": {},
   "outputs": [
    {
     "data": {
      "text/html": [
       "<style type=\"text/css\">\n",
       "#T_2cf3c_row0_col0, #T_2cf3c_row4_col3 {\n",
       "  background-color: #fb8072;\n",
       "  color: #f1f1f1;\n",
       "}\n",
       "#T_2cf3c_row0_col1, #T_2cf3c_row3_col0, #T_2cf3c_row3_col1, #T_2cf3c_row3_col2, #T_2cf3c_row3_col3, #T_2cf3c_row5_col0, #T_2cf3c_row5_col1, #T_2cf3c_row5_col2, #T_2cf3c_row5_col3, #T_2cf3c_row6_col0, #T_2cf3c_row6_col1, #T_2cf3c_row6_col2, #T_2cf3c_row6_col3 {\n",
       "  background-color: #8dd3c7;\n",
       "  color: #000000;\n",
       "}\n",
       "#T_2cf3c_row0_col2, #T_2cf3c_row1_col3, #T_2cf3c_row4_col1 {\n",
       "  background-color: #bebada;\n",
       "  color: #000000;\n",
       "}\n",
       "#T_2cf3c_row0_col3, #T_2cf3c_row1_col1 {\n",
       "  background-color: #ffffb3;\n",
       "  color: #000000;\n",
       "}\n",
       "#T_2cf3c_row1_col0 {\n",
       "  background-color: #bc80bd;\n",
       "  color: #f1f1f1;\n",
       "}\n",
       "#T_2cf3c_row1_col2 {\n",
       "  background-color: #b3de69;\n",
       "  color: #000000;\n",
       "}\n",
       "#T_2cf3c_row2_col0, #T_2cf3c_row2_col1, #T_2cf3c_row2_col2, #T_2cf3c_row2_col3 {\n",
       "  background-color: #ffed6f;\n",
       "  color: #000000;\n",
       "}\n",
       "#T_2cf3c_row4_col0 {\n",
       "  background-color: #d9d9d9;\n",
       "  color: #000000;\n",
       "}\n",
       "#T_2cf3c_row4_col2 {\n",
       "  background-color: #fccde5;\n",
       "  color: #000000;\n",
       "}\n",
       "</style>\n",
       "<table id=\"T_2cf3c\">\n",
       "  <thead>\n",
       "    <tr>\n",
       "      <th class=\"blank level0\" >&nbsp;</th>\n",
       "      <th id=\"T_2cf3c_level0_col0\" class=\"col_heading level0 col0\" >Heart Disease Mean</th>\n",
       "      <th id=\"T_2cf3c_level0_col1\" class=\"col_heading level0 col1\" >Heart Disease std</th>\n",
       "      <th id=\"T_2cf3c_level0_col2\" class=\"col_heading level0 col2\" >No Heart Disease Mean</th>\n",
       "      <th id=\"T_2cf3c_level0_col3\" class=\"col_heading level0 col3\" >No Heart Disease Std</th>\n",
       "    </tr>\n",
       "  </thead>\n",
       "  <tbody>\n",
       "    <tr>\n",
       "      <th id=\"T_2cf3c_level0_row0\" class=\"row_heading level0 row0\" >Age</th>\n",
       "      <td id=\"T_2cf3c_row0_col0\" class=\"data row0 col0\" >55.899606</td>\n",
       "      <td id=\"T_2cf3c_row0_col1\" class=\"data row0 col1\" >8.727056</td>\n",
       "      <td id=\"T_2cf3c_row0_col2\" class=\"data row0 col2\" >50.551220</td>\n",
       "      <td id=\"T_2cf3c_row0_col3\" class=\"data row0 col3\" >9.444915</td>\n",
       "    </tr>\n",
       "    <tr>\n",
       "      <th id=\"T_2cf3c_level0_row1\" class=\"row_heading level0 row1\" >RestingBP</th>\n",
       "      <td id=\"T_2cf3c_row1_col0\" class=\"data row1 col0\" >134.185039</td>\n",
       "      <td id=\"T_2cf3c_row1_col1\" class=\"data row1 col1\" >19.828685</td>\n",
       "      <td id=\"T_2cf3c_row1_col2\" class=\"data row1 col2\" >130.180488</td>\n",
       "      <td id=\"T_2cf3c_row1_col3\" class=\"data row1 col3\" >16.499585</td>\n",
       "    </tr>\n",
       "    <tr>\n",
       "      <th id=\"T_2cf3c_level0_row2\" class=\"row_heading level0 row2\" >Cholesterol</th>\n",
       "      <td id=\"T_2cf3c_row2_col0\" class=\"data row2 col0\" >175.940945</td>\n",
       "      <td id=\"T_2cf3c_row2_col1\" class=\"data row2 col1\" >126.391398</td>\n",
       "      <td id=\"T_2cf3c_row2_col2\" class=\"data row2 col2\" >227.121951</td>\n",
       "      <td id=\"T_2cf3c_row2_col3\" class=\"data row2 col3\" >74.634659</td>\n",
       "    </tr>\n",
       "    <tr>\n",
       "      <th id=\"T_2cf3c_level0_row3\" class=\"row_heading level0 row3\" >FastingBS</th>\n",
       "      <td id=\"T_2cf3c_row3_col0\" class=\"data row3 col0\" >0.334646</td>\n",
       "      <td id=\"T_2cf3c_row3_col1\" class=\"data row3 col1\" >0.472332</td>\n",
       "      <td id=\"T_2cf3c_row3_col2\" class=\"data row3 col2\" >0.107317</td>\n",
       "      <td id=\"T_2cf3c_row3_col3\" class=\"data row3 col3\" >0.309894</td>\n",
       "    </tr>\n",
       "    <tr>\n",
       "      <th id=\"T_2cf3c_level0_row4\" class=\"row_heading level0 row4\" >MaxHR</th>\n",
       "      <td id=\"T_2cf3c_row4_col0\" class=\"data row4 col0\" >127.655512</td>\n",
       "      <td id=\"T_2cf3c_row4_col1\" class=\"data row4 col1\" >23.386923</td>\n",
       "      <td id=\"T_2cf3c_row4_col2\" class=\"data row4 col2\" >148.151220</td>\n",
       "      <td id=\"T_2cf3c_row4_col3\" class=\"data row4 col3\" >23.288067</td>\n",
       "    </tr>\n",
       "    <tr>\n",
       "      <th id=\"T_2cf3c_level0_row5\" class=\"row_heading level0 row5\" >Oldpeak</th>\n",
       "      <td id=\"T_2cf3c_row5_col0\" class=\"data row5 col0\" >1.274213</td>\n",
       "      <td id=\"T_2cf3c_row5_col1\" class=\"data row5 col1\" >1.151872</td>\n",
       "      <td id=\"T_2cf3c_row5_col2\" class=\"data row5 col2\" >0.408049</td>\n",
       "      <td id=\"T_2cf3c_row5_col3\" class=\"data row5 col3\" >0.699709</td>\n",
       "    </tr>\n",
       "    <tr>\n",
       "      <th id=\"T_2cf3c_level0_row6\" class=\"row_heading level0 row6\" >HeartDisease</th>\n",
       "      <td id=\"T_2cf3c_row6_col0\" class=\"data row6 col0\" >1.000000</td>\n",
       "      <td id=\"T_2cf3c_row6_col1\" class=\"data row6 col1\" >0.000000</td>\n",
       "      <td id=\"T_2cf3c_row6_col2\" class=\"data row6 col2\" >0.000000</td>\n",
       "      <td id=\"T_2cf3c_row6_col3\" class=\"data row6 col3\" >0.000000</td>\n",
       "    </tr>\n",
       "  </tbody>\n",
       "</table>\n"
      ],
      "text/plain": [
       "<pandas.io.formats.style.Styler at 0x13bcadc60>"
      ]
     },
     "execution_count": 33,
     "metadata": {},
     "output_type": "execute_result"
    }
   ],
   "source": [
    "# 0 means no heart disese and 1 means the patient haas heart disease.\n",
    "yes = df[df['HeartDisease'] == 1].describe().T[['mean', 'std']]\n",
    "yes.columns = ['Heart Disease Mean', 'Heart Disease std']\n",
    "\n",
    "no = df[df['HeartDisease'] == 0].describe().T[['mean', 'std']]\n",
    "no.columns = ['No Heart Disease Mean', 'No Heart Disease Std']\n",
    "\n",
    "result = pd.concat([yes, no], axis=1)\n",
    "result.style.background_gradient(cmap = 'Set3')"
   ]
  },
  {
   "cell_type": "markdown",
   "id": "0b1dfdb0",
   "metadata": {},
   "source": [
    "## <span style=\"color:blue\">Feature Distributions</span>"
   ]
  },
  {
   "cell_type": "code",
   "execution_count": 34,
   "id": "954082a2",
   "metadata": {},
   "outputs": [
    {
     "data": {
      "text/plain": [
       "array([[<Axes: title={'center': 'Age'}>,\n",
       "        <Axes: title={'center': 'RestingBP'}>,\n",
       "        <Axes: title={'center': 'Cholesterol'}>],\n",
       "       [<Axes: title={'center': 'FastingBS'}>,\n",
       "        <Axes: title={'center': 'MaxHR'}>,\n",
       "        <Axes: title={'center': 'Oldpeak'}>],\n",
       "       [<Axes: title={'center': 'HeartDisease'}>, <Axes: >, <Axes: >]],\n",
       "      dtype=object)"
      ]
     },
     "execution_count": 34,
     "metadata": {},
     "output_type": "execute_result"
    },
    {
     "data": {
      "image/png": "[encoded data removed]",
      "text/plain": [
       "<Figure size 1000x700 with 9 Axes>"
      ]
     },
     "metadata": {},
     "output_type": "display_data"
    }
   ],
   "source": [
    "df.hist(bins=20, figsize=(10, 7))"
   ]
  },
  {
   "cell_type": "markdown",
   "id": "f307a938",
   "metadata": {},
   "source": [
    "* The age, MaxHR, and restingBP are all normally distrubuted \n",
    "* The Cholesterol data has a bimodal distribution \n",
    "* Oldpeak distribution is positively skewed "
   ]
  },
  {
   "cell_type": "markdown",
   "id": "da3f924c",
   "metadata": {},
   "source": [
    "## <span style=\"color:blue\">Correlations</span>"
   ]
  },
  {
   "cell_type": "code",
   "execution_count": 35,
   "id": "bdec245c",
   "metadata": {},
   "outputs": [
    {
     "data": {
      "text/plain": [
       "<Axes: >"
      ]
     },
     "execution_count": 35,
     "metadata": {},
     "output_type": "execute_result"
    },
    {
     "data": {
      "image/png": "[encoded data removed]",
      "text/plain": [
       "<Figure size 640x480 with 2 Axes>"
      ]
     },
     "metadata": {},
     "output_type": "display_data"
    }
   ],
   "source": [
    "df_corr = df.drop(columns=[\"Sex\", \"ChestPainType\", \"RestingECG\", \"ExerciseAngina\", \"ST_Slope\"])\n",
    "correlation_matrix = df_corr.corr()\n",
    "sns.heatmap(correlation_matrix, annot=True, cmap='coolwarm')"
   ]
  },
  {
   "cell_type": "code",
   "execution_count": 36,
   "id": "b2806a66",
   "metadata": {},
   "outputs": [
    {
     "data": {
      "application/vnd.plotly.v1+json": {
       "config": {
        "plotlyServerURL": "https://plot.ly"
       },
       "data": [
        {
         "hole": 0.3,
         "labels": [
          "M",
          "F"
         ],
         "marker": {
          "colors": [
           "red",
           "blue"
          ]
         },
         "pull": [
          0,
          0,
          0.06,
          0
         ],
         "type": "pie",
         "values": [
          458,
          50
         ]
        }
       ],
       "layout": {
        "template": {
         "data": {
          "bar": [
           {
            "error_x": {
             "color": "#2a3f5f"
            },
            "error_y": {
             "color": "#2a3f5f"
            },
            "marker": {
             "line": {
              "color": "#E5ECF6",
              "width": 0.5
             },
             "pattern": {
              "fillmode": "overlay",
              "size": 10,
              "solidity": 0.2
             }
            },
            "type": "bar"
           }
          ],
          "barpolar": [
           {
            "marker": {
             "line": {
              "color": "#E5ECF6",
              "width": 0.5
             },
             "pattern": {
              "fillmode": "overlay",
              "size": 10,
              "solidity": 0.2
             }
            },
            "type": "barpolar"
           }
          ],
          "carpet": [
           {
            "aaxis": {
             "endlinecolor": "#2a3f5f",
             "gridcolor": "white",
             "linecolor": "white",
             "minorgridcolor": "white",
             "startlinecolor": "#2a3f5f"
            },
            "baxis": {
             "endlinecolor": "#2a3f5f",
             "gridcolor": "white",
             "linecolor": "white",
             "minorgridcolor": "white",
             "startlinecolor": "#2a3f5f"
            },
            "type": "carpet"
           }
          ],
          "choropleth": [
           {
            "colorbar": {
             "outlinewidth": 0,
             "ticks": ""
            },
            "type": "choropleth"
           }
          ],
          "contour": [
           {
            "colorbar": {
             "outlinewidth": 0,
             "ticks": ""
            },
            "colorscale": [
             [
              0,
              "#0d0887"
             ],
             [
              0.1111111111111111,
              "#46039f"
             ],
             [
              0.2222222222222222,
              "#7201a8"
             ],
             [
              0.3333333333333333,
              "#9c179e"
             ],
             [
              0.4444444444444444,
              "#bd3786"
             ],
             [
              0.5555555555555556,
              "#d8576b"
             ],
             [
              0.6666666666666666,
              "#ed7953"
             ],
             [
              0.7777777777777778,
              "#fb9f3a"
             ],
             [
              0.8888888888888888,
              "#fdca26"
             ],
             [
              1,
              "#f0f921"
             ]
            ],
            "type": "contour"
           }
          ],
          "contourcarpet": [
           {
            "colorbar": {
             "outlinewidth": 0,
             "ticks": ""
            },
            "type": "contourcarpet"
           }
          ],
          "heatmap": [
           {
            "colorbar": {
             "outlinewidth": 0,
             "ticks": ""
            },
            "colorscale": [
             [
              0,
              "#0d0887"
             ],
             [
              0.1111111111111111,
              "#46039f"
             ],
             [
              0.2222222222222222,
              "#7201a8"
             ],
             [
              0.3333333333333333,
              "#9c179e"
             ],
             [
              0.4444444444444444,
              "#bd3786"
             ],
             [
              0.5555555555555556,
              "#d8576b"
             ],
             [
              0.6666666666666666,
              "#ed7953"
             ],
             [
              0.7777777777777778,
              "#fb9f3a"
             ],
             [
              0.8888888888888888,
              "#fdca26"
             ],
             [
              1,
              "#f0f921"
             ]
            ],
            "type": "heatmap"
           }
          ],
          "heatmapgl": [
           {
            "colorbar": {
             "outlinewidth": 0,
             "ticks": ""
            },
            "colorscale": [
             [
              0,
              "#0d0887"
             ],
             [
              0.1111111111111111,
              "#46039f"
             ],
             [
              0.2222222222222222,
              "#7201a8"
             ],
             [
              0.3333333333333333,
              "#9c179e"
             ],
             [
              0.4444444444444444,
              "#bd3786"
             ],
             [
              0.5555555555555556,
              "#d8576b"
             ],
             [
              0.6666666666666666,
              "#ed7953"
             ],
             [
              0.7777777777777778,
              "#fb9f3a"
             ],
             [
              0.8888888888888888,
              "#fdca26"
             ],
             [
              1,
              "#f0f921"
             ]
            ],
            "type": "heatmapgl"
           }
          ],
          "histogram": [
           {
            "marker": {
             "pattern": {
              "fillmode": "overlay",
              "size": 10,
              "solidity": 0.2
             }
            },
            "type": "histogram"
           }
          ],
          "histogram2d": [
           {
            "colorbar": {
             "outlinewidth": 0,
             "ticks": ""
            },
            "colorscale": [
             [
              0,
              "#0d0887"
             ],
             [
              0.1111111111111111,
              "#46039f"
             ],
             [
              0.2222222222222222,
              "#7201a8"
             ],
             [
              0.3333333333333333,
              "#9c179e"
             ],
             [
              0.4444444444444444,
              "#bd3786"
             ],
             [
              0.5555555555555556,
              "#d8576b"
             ],
             [
              0.6666666666666666,
              "#ed7953"
             ],
             [
              0.7777777777777778,
              "#fb9f3a"
             ],
             [
              0.8888888888888888,
              "#fdca26"
             ],
             [
              1,
              "#f0f921"
             ]
            ],
            "type": "histogram2d"
           }
          ],
          "histogram2dcontour": [
           {
            "colorbar": {
             "outlinewidth": 0,
             "ticks": ""
            },
            "colorscale": [
             [
              0,
              "#0d0887"
             ],
             [
              0.1111111111111111,
              "#46039f"
             ],
             [
              0.2222222222222222,
              "#7201a8"
             ],
             [
              0.3333333333333333,
              "#9c179e"
             ],
             [
              0.4444444444444444,
              "#bd3786"
             ],
             [
              0.5555555555555556,
              "#d8576b"
             ],
             [
              0.6666666666666666,
              "#ed7953"
             ],
             [
              0.7777777777777778,
              "#fb9f3a"
             ],
             [
              0.8888888888888888,
              "#fdca26"
             ],
             [
              1,
              "#f0f921"
             ]
            ],
            "type": "histogram2dcontour"
           }
          ],
          "mesh3d": [
           {
            "colorbar": {
             "outlinewidth": 0,
             "ticks": ""
            },
            "type": "mesh3d"
           }
          ],
          "parcoords": [
           {
            "line": {
             "colorbar": {
              "outlinewidth": 0,
              "ticks": ""
             }
            },
            "type": "parcoords"
           }
          ],
          "pie": [
           {
            "automargin": true,
            "type": "pie"
           }
          ],
          "scatter": [
           {
            "fillpattern": {
             "fillmode": "overlay",
             "size": 10,
             "solidity": 0.2
            },
            "type": "scatter"
           }
          ],
          "scatter3d": [
           {
            "line": {
             "colorbar": {
              "outlinewidth": 0,
              "ticks": ""
             }
            },
            "marker": {
             "colorbar": {
              "outlinewidth": 0,
              "ticks": ""
             }
            },
            "type": "scatter3d"
           }
          ],
          "scattercarpet": [
           {
            "marker": {
             "colorbar": {
              "outlinewidth": 0,
              "ticks": ""
             }
            },
            "type": "scattercarpet"
           }
          ],
          "scattergeo": [
           {
            "marker": {
             "colorbar": {
              "outlinewidth": 0,
              "ticks": ""
             }
            },
            "type": "scattergeo"
           }
          ],
          "scattergl": [
           {
            "marker": {
             "colorbar": {
              "outlinewidth": 0,
              "ticks": ""
             }
            },
            "type": "scattergl"
           }
          ],
          "scattermapbox": [
           {
            "marker": {
             "colorbar": {
              "outlinewidth": 0,
              "ticks": ""
             }
            },
            "type": "scattermapbox"
           }
          ],
          "scatterpolar": [
           {
            "marker": {
             "colorbar": {
              "outlinewidth": 0,
              "ticks": ""
             }
            },
            "type": "scatterpolar"
           }
          ],
          "scatterpolargl": [
           {
            "marker": {
             "colorbar": {
              "outlinewidth": 0,
              "ticks": ""
             }
            },
            "type": "scatterpolargl"
           }
          ],
          "scatterternary": [
           {
            "marker": {
             "colorbar": {
              "outlinewidth": 0,
              "ticks": ""
             }
            },
            "type": "scatterternary"
           }
          ],
          "surface": [
           {
            "colorbar": {
             "outlinewidth": 0,
             "ticks": ""
            },
            "colorscale": [
             [
              0,
              "#0d0887"
             ],
             [
              0.1111111111111111,
              "#46039f"
             ],
             [
              0.2222222222222222,
              "#7201a8"
             ],
             [
              0.3333333333333333,
              "#9c179e"
             ],
             [
              0.4444444444444444,
              "#bd3786"
             ],
             [
              0.5555555555555556,
              "#d8576b"
             ],
             [
              0.6666666666666666,
              "#ed7953"
             ],
             [
              0.7777777777777778,
              "#fb9f3a"
             ],
             [
              0.8888888888888888,
              "#fdca26"
             ],
             [
              1,
              "#f0f921"
             ]
            ],
            "type": "surface"
           }
          ],
          "table": [
           {
            "cells": {
             "fill": {
              "color": "#EBF0F8"
             },
             "line": {
              "color": "white"
             }
            },
            "header": {
             "fill": {
              "color": "#C8D4E3"
             },
             "line": {
              "color": "white"
             }
            },
            "type": "table"
           }
          ]
         },
         "layout": {
          "annotationdefaults": {
           "arrowcolor": "#2a3f5f",
           "arrowhead": 0,
           "arrowwidth": 1
          },
          "autotypenumbers": "strict",
          "coloraxis": {
           "colorbar": {
            "outlinewidth": 0,
            "ticks": ""
           }
          },
          "colorscale": {
           "diverging": [
            [
             0,
             "#8e0152"
            ],
            [
             0.1,
             "#c51b7d"
            ],
            [
             0.2,
             "#de77ae"
            ],
            [
             0.3,
             "#f1b6da"
            ],
            [
             0.4,
             "#fde0ef"
            ],
            [
             0.5,
             "#f7f7f7"
            ],
            [
             0.6,
             "#e6f5d0"
            ],
            [
             0.7,
             "#b8e186"
            ],
            [
             0.8,
             "#7fbc41"
            ],
            [
             0.9,
             "#4d9221"
            ],
            [
             1,
             "#276419"
            ]
           ],
           "sequential": [
            [
             0,
             "#0d0887"
            ],
            [
             0.1111111111111111,
             "#46039f"
            ],
            [
             0.2222222222222222,
             "#7201a8"
            ],
            [
             0.3333333333333333,
             "#9c179e"
            ],
            [
             0.4444444444444444,
             "#bd3786"
            ],
            [
             0.5555555555555556,
             "#d8576b"
            ],
            [
             0.6666666666666666,
             "#ed7953"
            ],
            [
             0.7777777777777778,
             "#fb9f3a"
            ],
            [
             0.8888888888888888,
             "#fdca26"
            ],
            [
             1,
             "#f0f921"
            ]
           ],
           "sequentialminus": [
            [
             0,
             "#0d0887"
            ],
            [
             0.1111111111111111,
             "#46039f"
            ],
            [
             0.2222222222222222,
             "#7201a8"
            ],
            [
             0.3333333333333333,
             "#9c179e"
            ],
            [
             0.4444444444444444,
             "#bd3786"
            ],
            [
             0.5555555555555556,
             "#d8576b"
            ],
            [
             0.6666666666666666,
             "#ed7953"
            ],
            [
             0.7777777777777778,
             "#fb9f3a"
            ],
            [
             0.8888888888888888,
             "#fdca26"
            ],
            [
             1,
             "#f0f921"
            ]
           ]
          },
          "colorway": [
           "#636efa",
           "#EF553B",
           "#00cc96",
           "#ab63fa",
           "#FFA15A",
           "#19d3f3",
           "#FF6692",
           "#B6E880",
           "#FF97FF",
           "#FECB52"
          ],
          "font": {
           "color": "#2a3f5f"
          },
          "geo": {
           "bgcolor": "white",
           "lakecolor": "white",
           "landcolor": "#E5ECF6",
           "showlakes": true,
           "showland": true,
           "subunitcolor": "white"
          },
          "hoverlabel": {
           "align": "left"
          },
          "hovermode": "closest",
          "mapbox": {
           "style": "light"
          },
          "paper_bgcolor": "white",
          "plot_bgcolor": "#E5ECF6",
          "polar": {
           "angularaxis": {
            "gridcolor": "white",
            "linecolor": "white",
            "ticks": ""
           },
           "bgcolor": "#E5ECF6",
           "radialaxis": {
            "gridcolor": "white",
            "linecolor": "white",
            "ticks": ""
           }
          },
          "scene": {
           "xaxis": {
            "backgroundcolor": "#E5ECF6",
            "gridcolor": "white",
            "gridwidth": 2,
            "linecolor": "white",
            "showbackground": true,
            "ticks": "",
            "zerolinecolor": "white"
           },
           "yaxis": {
            "backgroundcolor": "#E5ECF6",
            "gridcolor": "white",
            "gridwidth": 2,
            "linecolor": "white",
            "showbackground": true,
            "ticks": "",
            "zerolinecolor": "white"
           },
           "zaxis": {
            "backgroundcolor": "#E5ECF6",
            "gridcolor": "white",
            "gridwidth": 2,
            "linecolor": "white",
            "showbackground": true,
            "ticks": "",
            "zerolinecolor": "white"
           }
          },
          "shapedefaults": {
           "line": {
            "color": "#2a3f5f"
           }
          },
          "ternary": {
           "aaxis": {
            "gridcolor": "white",
            "linecolor": "white",
            "ticks": ""
           },
           "baxis": {
            "gridcolor": "white",
            "linecolor": "white",
            "ticks": ""
           },
           "bgcolor": "#E5ECF6",
           "caxis": {
            "gridcolor": "white",
            "linecolor": "white",
            "ticks": ""
           }
          },
          "title": {
           "x": 0.05
          },
          "xaxis": {
           "automargin": true,
           "gridcolor": "white",
           "linecolor": "white",
           "ticks": "",
           "title": {
            "standoff": 15
           },
           "zerolinecolor": "white",
           "zerolinewidth": 2
          },
          "yaxis": {
           "automargin": true,
           "gridcolor": "white",
           "linecolor": "white",
           "ticks": "",
           "title": {
            "standoff": 15
           },
           "zerolinecolor": "white",
           "zerolinewidth": 2
          }
         }
        }
       }
      },
      "text/html": [
       "<div>                            <div id=\"14ab5d67-edfe-4d7e-8b7b-9463a172851d\" class=\"plotly-graph-div\" style=\"height:525px; width:100%;\"></div>            <script type=\"text/javascript\">                require([\"plotly\"], function(Plotly) {                    window.PLOTLYENV=window.PLOTLYENV || {};                                    if (document.getElementById(\"14ab5d67-edfe-4d7e-8b7b-9463a172851d\")) {                    Plotly.newPlot(                        \"14ab5d67-edfe-4d7e-8b7b-9463a172851d\",                        [{\"hole\":0.3,\"labels\":[\"M\",\"F\"],\"pull\":[0,0,0.06,0],\"values\":[458,50],\"type\":\"pie\",\"marker\":{\"colors\":[\"red\",\"blue\"]}}],                        {\"template\":{\"data\":{\"histogram2dcontour\":[{\"type\":\"histogram2dcontour\",\"colorbar\":{\"outlinewidth\":0,\"ticks\":\"\"},\"colorscale\":[[0.0,\"#0d0887\"],[0.1111111111111111,\"#46039f\"],[0.2222222222222222,\"#7201a8\"],[0.3333333333333333,\"#9c179e\"],[0.4444444444444444,\"#bd3786\"],[0.5555555555555556,\"#d8576b\"],[0.6666666666666666,\"#ed7953\"],[0.7777777777777778,\"#fb9f3a\"],[0.8888888888888888,\"#fdca26\"],[1.0,\"#f0f921\"]]}],\"choropleth\":[{\"type\":\"choropleth\",\"colorbar\":{\"outlinewidth\":0,\"ticks\":\"\"}}],\"histogram2d\":[{\"type\":\"histogram2d\",\"colorbar\":{\"outlinewidth\":0,\"ticks\":\"\"},\"colorscale\":[[0.0,\"#0d0887\"],[0.1111111111111111,\"#46039f\"],[0.2222222222222222,\"#7201a8\"],[0.3333333333333333,\"#9c179e\"],[0.4444444444444444,\"#bd3786\"],[0.5555555555555556,\"#d8576b\"],[0.6666666666666666,\"#ed7953\"],[0.7777777777777778,\"#fb9f3a\"],[0.8888888888888888,\"#fdca26\"],[1.0,\"#f0f921\"]]}],\"heatmap\":[{\"type\":\"heatmap\",\"colorbar\":{\"outlinewidth\":0,\"ticks\":\"\"},\"colorscale\":[[0.0,\"#0d0887\"],[0.1111111111111111,\"#46039f\"],[0.2222222222222222,\"#7201a8\"],[0.3333333333333333,\"#9c179e\"],[0.4444444444444444,\"#bd3786\"],[0.5555555555555556,\"#d8576b\"],[0.6666666666666666,\"#ed7953\"],[0.7777777777777778,\"#fb9f3a\"],[0.8888888888888888,\"#fdca26\"],[1.0,\"#f0f921\"]]}],\"heatmapgl\":[{\"type\":\"heatmapgl\",\"colorbar\":{\"outlinewidth\":0,\"ticks\":\"\"},\"colorscale\":[[0.0,\"#0d0887\"],[0.1111111111111111,\"#46039f\"],[0.2222222222222222,\"#7201a8\"],[0.3333333333333333,\"#9c179e\"],[0.4444444444444444,\"#bd3786\"],[0.5555555555555556,\"#d8576b\"],[0.6666666666666666,\"#ed7953\"],[0.7777777777777778,\"#fb9f3a\"],[0.8888888888888888,\"#fdca26\"],[1.0,\"#f0f921\"]]}],\"contourcarpet\":[{\"type\":\"contourcarpet\",\"colorbar\":{\"outlinewidth\":0,\"ticks\":\"\"}}],\"contour\":[{\"type\":\"contour\",\"colorbar\":{\"outlinewidth\":0,\"ticks\":\"\"},\"colorscale\":[[0.0,\"#0d0887\"],[0.1111111111111111,\"#46039f\"],[0.2222222222222222,\"#7201a8\"],[0.3333333333333333,\"#9c179e\"],[0.4444444444444444,\"#bd3786\"],[0.5555555555555556,\"#d8576b\"],[0.6666666666666666,\"#ed7953\"],[0.7777777777777778,\"#fb9f3a\"],[0.8888888888888888,\"#fdca26\"],[1.0,\"#f0f921\"]]}],\"surface\":[{\"type\":\"surface\",\"colorbar\":{\"outlinewidth\":0,\"ticks\":\"\"},\"colorscale\":[[0.0,\"#0d0887\"],[0.1111111111111111,\"#46039f\"],[0.2222222222222222,\"#7201a8\"],[0.3333333333333333,\"#9c179e\"],[0.4444444444444444,\"#bd3786\"],[0.5555555555555556,\"#d8576b\"],[0.6666666666666666,\"#ed7953\"],[0.7777777777777778,\"#fb9f3a\"],[0.8888888888888888,\"#fdca26\"],[1.0,\"#f0f921\"]]}],\"mesh3d\":[{\"type\":\"mesh3d\",\"colorbar\":{\"outlinewidth\":0,\"ticks\":\"\"}}],\"scatter\":[{\"fillpattern\":{\"fillmode\":\"overlay\",\"size\":10,\"solidity\":0.2},\"type\":\"scatter\"}],\"parcoords\":[{\"type\":\"parcoords\",\"line\":{\"colorbar\":{\"outlinewidth\":0,\"ticks\":\"\"}}}],\"scatterpolargl\":[{\"type\":\"scatterpolargl\",\"marker\":{\"colorbar\":{\"outlinewidth\":0,\"ticks\":\"\"}}}],\"bar\":[{\"error_x\":{\"color\":\"#2a3f5f\"},\"error_y\":{\"color\":\"#2a3f5f\"},\"marker\":{\"line\":{\"color\":\"#E5ECF6\",\"width\":0.5},\"pattern\":{\"fillmode\":\"overlay\",\"size\":10,\"solidity\":0.2}},\"type\":\"bar\"}],\"scattergeo\":[{\"type\":\"scattergeo\",\"marker\":{\"colorbar\":{\"outlinewidth\":0,\"ticks\":\"\"}}}],\"scatterpolar\":[{\"type\":\"scatterpolar\",\"marker\":{\"colorbar\":{\"outlinewidth\":0,\"ticks\":\"\"}}}],\"histogram\":[{\"marker\":{\"pattern\":{\"fillmode\":\"overlay\",\"size\":10,\"solidity\":0.2}},\"type\":\"histogram\"}],\"scattergl\":[{\"type\":\"scattergl\",\"marker\":{\"colorbar\":{\"outlinewidth\":0,\"ticks\":\"\"}}}],\"scatter3d\":[{\"type\":\"scatter3d\",\"line\":{\"colorbar\":{\"outlinewidth\":0,\"ticks\":\"\"}},\"marker\":{\"colorbar\":{\"outlinewidth\":0,\"ticks\":\"\"}}}],\"scattermapbox\":[{\"type\":\"scattermapbox\",\"marker\":{\"colorbar\":{\"outlinewidth\":0,\"ticks\":\"\"}}}],\"scatterternary\":[{\"type\":\"scatterternary\",\"marker\":{\"colorbar\":{\"outlinewidth\":0,\"ticks\":\"\"}}}],\"scattercarpet\":[{\"type\":\"scattercarpet\",\"marker\":{\"colorbar\":{\"outlinewidth\":0,\"ticks\":\"\"}}}],\"carpet\":[{\"aaxis\":{\"endlinecolor\":\"#2a3f5f\",\"gridcolor\":\"white\",\"linecolor\":\"white\",\"minorgridcolor\":\"white\",\"startlinecolor\":\"#2a3f5f\"},\"baxis\":{\"endlinecolor\":\"#2a3f5f\",\"gridcolor\":\"white\",\"linecolor\":\"white\",\"minorgridcolor\":\"white\",\"startlinecolor\":\"#2a3f5f\"},\"type\":\"carpet\"}],\"table\":[{\"cells\":{\"fill\":{\"color\":\"#EBF0F8\"},\"line\":{\"color\":\"white\"}},\"header\":{\"fill\":{\"color\":\"#C8D4E3\"},\"line\":{\"color\":\"white\"}},\"type\":\"table\"}],\"barpolar\":[{\"marker\":{\"line\":{\"color\":\"#E5ECF6\",\"width\":0.5},\"pattern\":{\"fillmode\":\"overlay\",\"size\":10,\"solidity\":0.2}},\"type\":\"barpolar\"}],\"pie\":[{\"automargin\":true,\"type\":\"pie\"}]},\"layout\":{\"autotypenumbers\":\"strict\",\"colorway\":[\"#636efa\",\"#EF553B\",\"#00cc96\",\"#ab63fa\",\"#FFA15A\",\"#19d3f3\",\"#FF6692\",\"#B6E880\",\"#FF97FF\",\"#FECB52\"],\"font\":{\"color\":\"#2a3f5f\"},\"hovermode\":\"closest\",\"hoverlabel\":{\"align\":\"left\"},\"paper_bgcolor\":\"white\",\"plot_bgcolor\":\"#E5ECF6\",\"polar\":{\"bgcolor\":\"#E5ECF6\",\"angularaxis\":{\"gridcolor\":\"white\",\"linecolor\":\"white\",\"ticks\":\"\"},\"radialaxis\":{\"gridcolor\":\"white\",\"linecolor\":\"white\",\"ticks\":\"\"}},\"ternary\":{\"bgcolor\":\"#E5ECF6\",\"aaxis\":{\"gridcolor\":\"white\",\"linecolor\":\"white\",\"ticks\":\"\"},\"baxis\":{\"gridcolor\":\"white\",\"linecolor\":\"white\",\"ticks\":\"\"},\"caxis\":{\"gridcolor\":\"white\",\"linecolor\":\"white\",\"ticks\":\"\"}},\"coloraxis\":{\"colorbar\":{\"outlinewidth\":0,\"ticks\":\"\"}},\"colorscale\":{\"sequential\":[[0.0,\"#0d0887\"],[0.1111111111111111,\"#46039f\"],[0.2222222222222222,\"#7201a8\"],[0.3333333333333333,\"#9c179e\"],[0.4444444444444444,\"#bd3786\"],[0.5555555555555556,\"#d8576b\"],[0.6666666666666666,\"#ed7953\"],[0.7777777777777778,\"#fb9f3a\"],[0.8888888888888888,\"#fdca26\"],[1.0,\"#f0f921\"]],\"sequentialminus\":[[0.0,\"#0d0887\"],[0.1111111111111111,\"#46039f\"],[0.2222222222222222,\"#7201a8\"],[0.3333333333333333,\"#9c179e\"],[0.4444444444444444,\"#bd3786\"],[0.5555555555555556,\"#d8576b\"],[0.6666666666666666,\"#ed7953\"],[0.7777777777777778,\"#fb9f3a\"],[0.8888888888888888,\"#fdca26\"],[1.0,\"#f0f921\"]],\"diverging\":[[0,\"#8e0152\"],[0.1,\"#c51b7d\"],[0.2,\"#de77ae\"],[0.3,\"#f1b6da\"],[0.4,\"#fde0ef\"],[0.5,\"#f7f7f7\"],[0.6,\"#e6f5d0\"],[0.7,\"#b8e186\"],[0.8,\"#7fbc41\"],[0.9,\"#4d9221\"],[1,\"#276419\"]]},\"xaxis\":{\"gridcolor\":\"white\",\"linecolor\":\"white\",\"ticks\":\"\",\"title\":{\"standoff\":15},\"zerolinecolor\":\"white\",\"automargin\":true,\"zerolinewidth\":2},\"yaxis\":{\"gridcolor\":\"white\",\"linecolor\":\"white\",\"ticks\":\"\",\"title\":{\"standoff\":15},\"zerolinecolor\":\"white\",\"automargin\":true,\"zerolinewidth\":2},\"scene\":{\"xaxis\":{\"backgroundcolor\":\"#E5ECF6\",\"gridcolor\":\"white\",\"linecolor\":\"white\",\"showbackground\":true,\"ticks\":\"\",\"zerolinecolor\":\"white\",\"gridwidth\":2},\"yaxis\":{\"backgroundcolor\":\"#E5ECF6\",\"gridcolor\":\"white\",\"linecolor\":\"white\",\"showbackground\":true,\"ticks\":\"\",\"zerolinecolor\":\"white\",\"gridwidth\":2},\"zaxis\":{\"backgroundcolor\":\"#E5ECF6\",\"gridcolor\":\"white\",\"linecolor\":\"white\",\"showbackground\":true,\"ticks\":\"\",\"zerolinecolor\":\"white\",\"gridwidth\":2}},\"shapedefaults\":{\"line\":{\"color\":\"#2a3f5f\"}},\"annotationdefaults\":{\"arrowcolor\":\"#2a3f5f\",\"arrowhead\":0,\"arrowwidth\":1},\"geo\":{\"bgcolor\":\"white\",\"landcolor\":\"#E5ECF6\",\"subunitcolor\":\"white\",\"showland\":true,\"showlakes\":true,\"lakecolor\":\"white\"},\"title\":{\"x\":0.05},\"mapbox\":{\"style\":\"light\"}}}},                        {\"responsive\": true}                    ).then(function(){\n",
       "                            \n",
       "var gd = document.getElementById('14ab5d67-edfe-4d7e-8b7b-9463a172851d');\n",
       "var x = new MutationObserver(function (mutations, observer) {{\n",
       "        var display = window.getComputedStyle(gd).display;\n",
       "        if (!display || display === 'none') {{\n",
       "            console.log([gd, 'removed!']);\n",
       "            Plotly.purge(gd);\n",
       "            observer.disconnect();\n",
       "        }}\n",
       "}});\n",
       "\n",
       "// Listen for the removal of the full notebook cells\n",
       "var notebookContainer = gd.closest('#notebook-container');\n",
       "if (notebookContainer) {{\n",
       "    x.observe(notebookContainer, {childList: true});\n",
       "}}\n",
       "\n",
       "// Listen for the clearing of the current output cell\n",
       "var outputEl = gd.closest('.output');\n",
       "if (outputEl) {{\n",
       "    x.observe(outputEl, {childList: true});\n",
       "}}\n",
       "\n",
       "                        })                };                });            </script>        </div>"
      ]
     },
     "metadata": {},
     "output_type": "display_data"
    }
   ],
   "source": [
    "import plotly.graph_objects as go\n",
    "import plotly.express as px\n",
    "colors = ['red','blue']\n",
    "\n",
    "labels = [x for x in df.Sex.value_counts().index]\n",
    "values = df[df['HeartDisease'] == 1]['Sex'].value_counts()\n",
    "\n",
    "# Use `hole` to create a donut-like pie chart\n",
    "fig = go.Figure(data=[go.Pie(labels=labels, values=values, hole=.3,pull=[0, 0, 0.06, 0])])\n",
    "fig.update_traces(marker=dict(colors=colors))\n",
    "fig.show()"
   ]
  },
  {
   "cell_type": "markdown",
   "id": "c3a5e282",
   "metadata": {},
   "source": [
    "# 3. Machine Learning Preprocessing \n",
    "\n",
    "## <span style=\"color:blue\">Label Encoder using Scikit-Learn</span>\n"
   ]
  },
  {
   "cell_type": "markdown",
   "id": "68d8a4d8",
   "metadata": {},
   "source": [
    "* Performing label encoding on categorical features is important because machine learning algorithms typically work with numerical data. Label encoding allows us to convert categorical data into numerical data that can be used as input for machine learning algorithms.\n",
    "\n",
    "* In contrast, numerical features such as `Age', 'Cholesterol', 'RestingBP', 'FastingBS', 'Oldpeak', and 'MaxHR` can be directly used as input to machine learning algorithms without the need for encoding.\n",
    "\n",
    "* Therefore, we apply label encoding to only the categorical features in the dataset, and leave the numerical features as they are.\n",
    "\n",
    "It is also important to create a deep copy of the data before performing any data transformations because making changes to the original data can cause unexpected issues and make it difficult to track changes. Creating a deep copy ensures that the original data is preserved and any changes are made to a separate copy of the data.\n",
    "\n"
   ]
  },
  {
   "cell_type": "code",
   "execution_count": 37,
   "id": "8a35d6e9",
   "metadata": {},
   "outputs": [],
   "source": [
    "from sklearn.preprocessing import LabelEncoder\n",
    "le = LabelEncoder()\n",
    "df_ML = df.copy(deep = True)\n",
    "\n",
    "df_ML['Sex'] = le.fit_transform(df['Sex'])\n",
    "df_ML['ChestPainType'] = le.fit_transform(df['ChestPainType'])\n",
    "df_ML['RestingECG'] = le.fit_transform(df['RestingECG'])\n",
    "df_ML['ExerciseAngina'] = le.fit_transform(df['ExerciseAngina'])\n",
    "df_ML['ST_Slope'] = le.fit_transform(df['ST_Slope'])"
   ]
  },
  {
   "cell_type": "markdown",
   "id": "7fdfbe4d",
   "metadata": {},
   "source": [
    "## <span style=\"color:blue\">Feature Scaling</span>\n",
    "\n",
    "typically we have two options for scaling data: normalisation and standardisation.\n",
    "\n",
    "* Normalisation is used to scale features that do not display a normal (Gaussian) distribution. This technique is used to adjust the values of features that have different ranges of values.\n",
    "\n",
    "   In our dataset, the 'Oldpeak' feature has a right-skewed data distribution and so normalisation is applied to this feature.\n",
    "<br>\n",
    "\n",
    "* Standardisation is used to scale features that are normally distributed but may have different ranges of values. Standardisation transforms the data to have a mean of 0 and a standard deviation of 1, allowing for better comparison between the features.\n",
    "\n",
    "  In our dataset, the 'Age', 'RestingBP', 'Cholesterol', and 'MaxHR' features are normally distributed, therefore standardisation is applied to these features"
   ]
  },
  {
   "cell_type": "code",
   "execution_count": 38,
   "id": "787da5c6",
   "metadata": {},
   "outputs": [],
   "source": [
    "from sklearn.preprocessing import MinMaxScaler\n",
    "\n",
    "# Create a MinMaxScaler object for normalization\n",
    "min_max_scaler = MinMaxScaler()\n",
    "df_ML['Oldpeak'] = min_max_scaler.fit_transform(df_ML[['Oldpeak']])"
   ]
  },
  {
   "cell_type": "code",
   "execution_count": 39,
   "id": "43002834",
   "metadata": {},
   "outputs": [
    {
     "data": {
      "text/html": [
       "<div>\n",
       "<style scoped>\n",
       "    .dataframe tbody tr th:only-of-type {\n",
       "        vertical-align: middle;\n",
       "    }\n",
       "\n",
       "    .dataframe tbody tr th {\n",
       "        vertical-align: top;\n",
       "    }\n",
       "\n",
       "    .dataframe thead th {\n",
       "        text-align: right;\n",
       "    }\n",
       "</style>\n",
       "<table border=\"1\" class=\"dataframe\">\n",
       "  <thead>\n",
       "    <tr style=\"text-align: right;\">\n",
       "      <th></th>\n",
       "      <th>Age</th>\n",
       "      <th>Sex</th>\n",
       "      <th>ChestPainType</th>\n",
       "      <th>RestingBP</th>\n",
       "      <th>Cholesterol</th>\n",
       "      <th>FastingBS</th>\n",
       "      <th>RestingECG</th>\n",
       "      <th>MaxHR</th>\n",
       "      <th>ExerciseAngina</th>\n",
       "      <th>Oldpeak</th>\n",
       "      <th>ST_Slope</th>\n",
       "      <th>HeartDisease</th>\n",
       "    </tr>\n",
       "  </thead>\n",
       "  <tbody>\n",
       "    <tr>\n",
       "      <th>0</th>\n",
       "      <td>-1.433140</td>\n",
       "      <td>1</td>\n",
       "      <td>1</td>\n",
       "      <td>0.410909</td>\n",
       "      <td>0.825070</td>\n",
       "      <td>0</td>\n",
       "      <td>1</td>\n",
       "      <td>1.382928</td>\n",
       "      <td>0</td>\n",
       "      <td>0.295455</td>\n",
       "      <td>2</td>\n",
       "      <td>0</td>\n",
       "    </tr>\n",
       "    <tr>\n",
       "      <th>1</th>\n",
       "      <td>-0.478484</td>\n",
       "      <td>0</td>\n",
       "      <td>2</td>\n",
       "      <td>1.491752</td>\n",
       "      <td>-0.171961</td>\n",
       "      <td>0</td>\n",
       "      <td>1</td>\n",
       "      <td>0.754157</td>\n",
       "      <td>0</td>\n",
       "      <td>0.409091</td>\n",
       "      <td>1</td>\n",
       "      <td>1</td>\n",
       "    </tr>\n",
       "    <tr>\n",
       "      <th>2</th>\n",
       "      <td>-1.751359</td>\n",
       "      <td>1</td>\n",
       "      <td>1</td>\n",
       "      <td>-0.129513</td>\n",
       "      <td>0.770188</td>\n",
       "      <td>0</td>\n",
       "      <td>2</td>\n",
       "      <td>-1.525138</td>\n",
       "      <td>0</td>\n",
       "      <td>0.295455</td>\n",
       "      <td>2</td>\n",
       "      <td>0</td>\n",
       "    </tr>\n",
       "    <tr>\n",
       "      <th>3</th>\n",
       "      <td>-0.584556</td>\n",
       "      <td>0</td>\n",
       "      <td>0</td>\n",
       "      <td>0.302825</td>\n",
       "      <td>0.139040</td>\n",
       "      <td>0</td>\n",
       "      <td>1</td>\n",
       "      <td>-1.132156</td>\n",
       "      <td>1</td>\n",
       "      <td>0.465909</td>\n",
       "      <td>1</td>\n",
       "      <td>1</td>\n",
       "    </tr>\n",
       "    <tr>\n",
       "      <th>4</th>\n",
       "      <td>0.051881</td>\n",
       "      <td>1</td>\n",
       "      <td>2</td>\n",
       "      <td>0.951331</td>\n",
       "      <td>-0.034755</td>\n",
       "      <td>0</td>\n",
       "      <td>1</td>\n",
       "      <td>-0.581981</td>\n",
       "      <td>0</td>\n",
       "      <td>0.295455</td>\n",
       "      <td>2</td>\n",
       "      <td>0</td>\n",
       "    </tr>\n",
       "  </tbody>\n",
       "</table>\n",
       "</div>"
      ],
      "text/plain": [
       "        Age  Sex  ChestPainType  RestingBP  Cholesterol  FastingBS  \\\n",
       "0 -1.433140    1              1   0.410909     0.825070          0   \n",
       "1 -0.478484    0              2   1.491752    -0.171961          0   \n",
       "2 -1.751359    1              1  -0.129513     0.770188          0   \n",
       "3 -0.584556    0              0   0.302825     0.139040          0   \n",
       "4  0.051881    1              2   0.951331    -0.034755          0   \n",
       "\n",
       "   RestingECG     MaxHR  ExerciseAngina   Oldpeak  ST_Slope  HeartDisease  \n",
       "0           1  1.382928               0  0.295455         2             0  \n",
       "1           1  0.754157               0  0.409091         1             1  \n",
       "2           2 -1.525138               0  0.295455         2             0  \n",
       "3           1 -1.132156               1  0.465909         1             1  \n",
       "4           1 -0.581981               0  0.295455         2             0  "
      ]
     },
     "execution_count": 39,
     "metadata": {},
     "output_type": "execute_result"
    }
   ],
   "source": [
    "from sklearn.preprocessing import StandardScaler, MinMaxScaler\n",
    "\n",
    "# Features to be scaled\n",
    "features = ['Age', 'RestingBP', 'Cholesterol', 'MaxHR', 'Oldpeak']\n",
    "\n",
    "# Create a StandardScaler object for standardization\n",
    "scaler = StandardScaler()\n",
    "\n",
    "# Create a MinMaxScaler object for normalization\n",
    "min_max_scaler = MinMaxScaler()\n",
    "\n",
    "# Apply standardization and normalization to the features\n",
    "df_ML[features] = scaler.fit_transform(df_ML[features])\n",
    "df_ML['Oldpeak'] = min_max_scaler.fit_transform(df_ML[['Oldpeak']])\n",
    "df_ML.head()"
   ]
  },
  {
   "cell_type": "markdown",
   "id": "ffac195e",
   "metadata": {},
   "source": [
    "## Feature Selection"
   ]
  },
  {
   "cell_type": "markdown",
   "id": "07e3e6b7",
   "metadata": {},
   "source": [
    "### Chi^2 anlysis for catagorical features\n",
    "The chi-squared test measures the difference between the observed distribution of a categorical variable and the expected distribution, assuming the null hypothesis that there is no relationship between the variable and the target. A feature with a high chi-squared score indicates that it is more likely to be related to the target variable and can be a good predictor.\n",
    "\n",
    "By applying the chi-squared test to each feature in the dataset, we can identify the features that are most strongly associated with the target variable and use them as input features for your machine learning model. This can help you reduce the number of features in your dataset, simplify the model, and improve its accuracy and generalisation performance.\n",
    "\n",
    "$$\\chi^2 = \\sum \\frac{(O_i - E_i)^2}{E_i}$$"
   ]
  },
  {
   "cell_type": "code",
   "execution_count": 41,
   "id": "3a428e7a",
   "metadata": {},
   "outputs": [],
   "source": [
    "categorical_cols= df.select_dtypes(include=['object'])\n",
    "categorical_features=categorical_cols.columns\n",
    "\n",
    "features = df.loc[:,categorical_features[:-1]]\n",
    "target = df.loc[:,categorical_features[-1]]"
   ]
  },
  {
   "cell_type": "code",
   "execution_count": 42,
   "id": "67dcc1aa",
   "metadata": {},
   "outputs": [
    {
     "name": "stdout",
     "output_type": "stream",
     "text": [
      "          Feature       Score\n",
      "0  ExerciseAngina  133.640134\n",
      "1   ChestPainType  160.736878\n",
      "2             Sex   18.006243\n",
      "3      RestingECG    1.218136\n"
     ]
    }
   ],
   "source": [
    "from sklearn.feature_selection import SelectKBest, chi2\n",
    "\n",
    "# new dataframe with selected categorical features\n",
    "cat_df = df_ML[['ExerciseAngina', 'ChestPainType', 'Sex', 'RestingECG']].copy()\n",
    "\n",
    "# Apply chi-squared test to select the best features\n",
    "selector = SelectKBest(chi2, k='all')\n",
    "selector.fit(cat_df, df_ML['HeartDisease'])\n",
    "selected_features = cat_df.columns[selector.get_support()]\n",
    "\n",
    "feature_scores = pd.DataFrame({'Feature': cat_df.columns, 'Score': selector.scores_})\n",
    "print(feature_scores)"
   ]
  },
  {
   "cell_type": "markdown",
   "id": "1f72ab25",
   "metadata": {},
   "source": [
    "### ANOVA F-test\n",
    "The ANOVA F-test computes a score for each feature, which measures the degree of linear relationship between the feature and the target variable. A higher score indicates a stronger correlation between the feature and the target variable."
   ]
  },
  {
   "cell_type": "code",
   "execution_count": 44,
   "id": "3d8aa97c",
   "metadata": {},
   "outputs": [
    {
     "name": "stdout",
     "output_type": "stream",
     "text": [
      "             ANOVA Score\n",
      "Oldpeak       178.615120\n",
      "MaxHR         174.913585\n",
      "Age            79.160779\n",
      "FastingBS      70.478543\n",
      "Cholesterol    52.459725\n",
      "RestingBP      10.727228\n"
     ]
    }
   ],
   "source": [
    "from sklearn.feature_selection import f_regression\n",
    "\n",
    "# Select numerical features\n",
    "numerical_features = ['Age', 'RestingBP', 'Cholesterol', 'FastingBS', 'MaxHR', 'Oldpeak']\n",
    "\n",
    "# Select target variable\n",
    "target = df_ML['HeartDisease']\n",
    "\n",
    "# Perfor feature selection using ANOVA F-test\n",
    "best_features = SelectKBest(score_func=f_regression, k='all')\n",
    "fit = best_features.fit(df_ML[numerical_features], target)\n",
    "\n",
    "feature_scores = pd.DataFrame(data=fit.scores_, index=numerical_features, columns=['ANOVA Score'])\n",
    "print(feature_scores.sort_values(by='ANOVA Score', ascending=False))"
   ]
  },
  {
   "cell_type": "markdown",
   "id": "d7ce58b5",
   "metadata": {},
   "source": [
    "#### From the results of the feature selction phase we will exclude Resting ECG and Resting BP from our mahcine learning model"
   ]
  },
  {
   "cell_type": "markdown",
   "id": "e8008803",
   "metadata": {},
   "source": [
    "# 4. Machine Learning Modelling"
   ]
  },
  {
   "cell_type": "code",
   "execution_count": 45,
   "id": "d0faeb10",
   "metadata": {},
   "outputs": [],
   "source": [
    "from sklearn.model_selection import train_test_split\n",
    "from sklearn.linear_model import LinearRegression\n",
    "from sklearn.preprocessing import PolynomialFeatures\n",
    "from sklearn.tree import DecisionTreeClassifier\n",
    "from sklearn.neighbors import KNeighborsClassifier\n",
    "from sklearn.metrics import accuracy_score, classification_report, confusion_matrix, precision_score, recall_score, f1_score\n",
    "from sklearn.model_selection import cross_val_score"
   ]
  },
  {
   "cell_type": "code",
   "execution_count": 46,
   "id": "90379db2",
   "metadata": {},
   "outputs": [],
   "source": [
    "# Randomly splits the 'X' and 'y' datasets into training and testing sets\n",
    "# First of all drop features that arent going to be used in or model\n",
    "features = df_ML[df_ML.columns.drop(['HeartDisease','RestingBP','RestingECG'])].values\n",
    "\n",
    "# Set target variable\n",
    "target_variable = df_ML['HeartDisease'].values\n",
    "\n",
    "x_train, x_test, y_train, y_test = train_test_split(features, target_variable, test_size = 0.25, random_state = 35)"
   ]
  },
  {
   "cell_type": "markdown",
   "id": "e6733b7a",
   "metadata": {},
   "source": [
    "## <span style=\"color:blue\">Model Evaluating Function</span>"
   ]
  },
  {
   "cell_type": "code",
   "execution_count": 48,
   "id": "3f7ef251",
   "metadata": {},
   "outputs": [],
   "source": [
    "from sklearn.metrics import accuracy_score, classification_report, confusion_matrix, precision_score, recall_score, f1_score\n",
    "from sklearn.model_selection import cross_val_score\n",
    "\n",
    "\n",
    "def model_evaluation(classifier, X_test, y_test):\n",
    "    # Predict labels for the test set\n",
    "    y_pred = classifier.predict(X_test)\n",
    "    \n",
    "    # Calculate evaluation metrics\n",
    "    accuracy = accuracy_score(y_test, y_pred)\n",
    "    precision = precision_score(y_test, y_pred)\n",
    "    recall = recall_score(y_test, y_pred)\n",
    "    f1 = f1_score(y_test, y_pred)\n",
    "    \n",
    "    # Calculate confusion matrix\n",
    "    tn, fp, fn, tp = confusion_matrix(y_test, y_pred).ravel()\n",
    "    total = tn + fp + fn + tp\n",
    "    tnpct = (tn / total) * 100\n",
    "    fppct = (fp / total) * 100\n",
    "    fnpct = (fn / total) * 100\n",
    "    tppct = (tp / total) * 100\n",
    "    \n",
    "    # Print evaluation metrics and confusion matrix\n",
    "    print(\"Accuracy: {:.2f}\".format(accuracy))\n",
    "    print(\"Precision: {:.2f}\".format(precision))\n",
    "    print(\"Recall: {:.2f}\".format(recall))\n",
    "    print(\"F1 Score: {:.2f}\".format(f1))\n",
    "    print(\"\\nConfusion Matrix:\")\n",
    "    print(\"TN: {} ({:.2f}%)\".format(tn, tnpct))\n",
    "    print(\"FP: {} ({:.2f}%)\".format(fp, fppct))\n",
    "    print(\"FN: {} ({:.2f}%)\".format(fn, fnpct))\n",
    "    print(\"TP: {} ({:.2f}%)\".format(tp, tppct))"
   ]
  },
  {
   "cell_type": "markdown",
   "id": "7fd044d3",
   "metadata": {},
   "source": [
    "## <span style=\"color:blue\">Decision Tree Classifier</span>"
   ]
  },
  {
   "cell_type": "code",
   "execution_count": 49,
   "id": "1fd8c7f2",
   "metadata": {},
   "outputs": [
    {
     "name": "stdout",
     "output_type": "stream",
     "text": [
      "Accuracy: 0.81\n",
      "Precision: 0.84\n",
      "Recall: 0.83\n",
      "F1 Score: 0.84\n",
      "\n",
      "Confusion Matrix:\n",
      "TN: 74 (32.17%)\n",
      "FP: 21 (9.13%)\n",
      "FN: 23 (10.00%)\n",
      "TP: 112 (48.70%)\n"
     ]
    }
   ],
   "source": [
    "from sklearn.tree import DecisionTreeClassifier\n",
    "\n",
    "# Create a decision tree classifier and train on the training set\n",
    "dt = DecisionTreeClassifier(random_state=42)\n",
    "dt.fit(x_train, y_train)\n",
    "\n",
    "# Evaluate the model using the test set and the model_evaluation function\n",
    "model_evaluation(dt, x_test, y_test)\n",
    "\n"
   ]
  },
  {
   "cell_type": "markdown",
   "id": "6c8c71e3",
   "metadata": {},
   "source": [
    "## <span style=\"color:blue\"> KNN </span>"
   ]
  },
  {
   "cell_type": "code",
   "execution_count": 50,
   "id": "4538ccc8",
   "metadata": {},
   "outputs": [
    {
     "name": "stdout",
     "output_type": "stream",
     "text": [
      "Accuracy: 0.82\n",
      "Precision: 0.83\n",
      "Recall: 0.86\n",
      "F1 Score: 0.85\n",
      "\n",
      "Confusion Matrix:\n",
      "TN: 72 (31.30%)\n",
      "FP: 23 (10.00%)\n",
      "FN: 19 (8.26%)\n",
      "TP: 116 (50.43%)\n"
     ]
    }
   ],
   "source": [
    "from sklearn.neighbors import KNeighborsClassifier\n",
    "\n",
    "# Create an instance of KNN classifier\n",
    "knn = KNeighborsClassifier(n_neighbors=5)\n",
    "\n",
    "# Train the classifier on the training set\n",
    "knn.fit(x_train, y_train)\n",
    "\n",
    "# Evaluate the performance of the classifier using the model_evaluation function\n",
    "model_evaluation(knn, x_test, y_test)\n"
   ]
  },
  {
   "cell_type": "markdown",
   "id": "2e8870b3",
   "metadata": {},
   "source": [
    "## <span style=\"color:blue\">Naive Bayes</span>"
   ]
  },
  {
   "cell_type": "code",
   "execution_count": 51,
   "id": "4c52030f",
   "metadata": {},
   "outputs": [
    {
     "name": "stdout",
     "output_type": "stream",
     "text": [
      "Accuracy: 0.85\n",
      "Precision: 0.87\n",
      "Recall: 0.87\n",
      "F1 Score: 0.87\n",
      "\n",
      "Confusion Matrix:\n",
      "TN: 78 (33.91%)\n",
      "FP: 17 (7.39%)\n",
      "FN: 17 (7.39%)\n",
      "TP: 118 (51.30%)\n"
     ]
    }
   ],
   "source": [
    "from sklearn.naive_bayes import GaussianNB\n",
    "\n",
    "# Create an instance of Gaussian Naive Bayes classifier\n",
    "nb = GaussianNB()\n",
    "\n",
    "# Train the classifier on the training set\n",
    "nb.fit(x_train, y_train)\n",
    "\n",
    "# Evaluate the performance of the classifier using the model_evaluation function\n",
    "model_evaluation(nb, x_test, y_test)\n"
   ]
  },
  {
   "cell_type": "markdown",
   "id": "09dba9cd",
   "metadata": {},
   "source": [
    "## <span style=\"color:blue\">Logistic Regression</span>"
   ]
  },
  {
   "cell_type": "code",
   "execution_count": 52,
   "id": "1adcdb4c",
   "metadata": {},
   "outputs": [
    {
     "name": "stdout",
     "output_type": "stream",
     "text": [
      "Accuracy: 0.84\n",
      "Precision: 0.88\n",
      "Recall: 0.84\n",
      "F1 Score: 0.86\n",
      "\n",
      "Confusion Matrix:\n",
      "TN: 79 (34.35%)\n",
      "FP: 16 (6.96%)\n",
      "FN: 21 (9.13%)\n",
      "TP: 114 (49.57%)\n"
     ]
    }
   ],
   "source": [
    "from sklearn.linear_model import LogisticRegression\n",
    "\n",
    "# Create an instance of logistic regression classifier\n",
    "log_model = LogisticRegression(max_iter=1000)\n",
    "\n",
    "# Train the classifier on the training set\n",
    "log_model.fit(x_train, y_train)\n",
    "\n",
    "# Evaluate the performance of the classifier using the model_evaluation function\n",
    "model_evaluation(log_model, x_test, y_test)\n"
   ]
  },
  {
   "cell_type": "code",
   "execution_count": 53,
   "id": "7f2102c1",
   "metadata": {},
   "outputs": [
    {
     "data": {
      "text/html": [
       "<style type=\"text/css\">\n",
       "#T_c65e4_row0_col1, #T_c65e4_row0_col2 {\n",
       "  background-color: #8dd3c7;\n",
       "  color: #000000;\n",
       "}\n",
       "#T_c65e4_row1_col1 {\n",
       "  background-color: #bebada;\n",
       "  color: #000000;\n",
       "}\n",
       "#T_c65e4_row1_col2 {\n",
       "  background-color: #80b1d3;\n",
       "  color: #f1f1f1;\n",
       "}\n",
       "#T_c65e4_row2_col1, #T_c65e4_row2_col2 {\n",
       "  background-color: #ffed6f;\n",
       "  color: #000000;\n",
       "}\n",
       "#T_c65e4_row3_col1, #T_c65e4_row3_col2 {\n",
       "  background-color: #d9d9d9;\n",
       "  color: #000000;\n",
       "}\n",
       "</style>\n",
       "<table id=\"T_c65e4\">\n",
       "  <thead>\n",
       "    <tr>\n",
       "      <th class=\"blank level0\" >&nbsp;</th>\n",
       "      <th id=\"T_c65e4_level0_col0\" class=\"col_heading level0 col0\" >Model</th>\n",
       "      <th id=\"T_c65e4_level0_col1\" class=\"col_heading level0 col1\" >Accuracy</th>\n",
       "      <th id=\"T_c65e4_level0_col2\" class=\"col_heading level0 col2\" >F1 Score</th>\n",
       "    </tr>\n",
       "  </thead>\n",
       "  <tbody>\n",
       "    <tr>\n",
       "      <th id=\"T_c65e4_level0_row0\" class=\"row_heading level0 row0\" >0</th>\n",
       "      <td id=\"T_c65e4_row0_col0\" class=\"data row0 col0\" >Decision Tree</td>\n",
       "      <td id=\"T_c65e4_row0_col1\" class=\"data row0 col1\" >0.810000</td>\n",
       "      <td id=\"T_c65e4_row0_col2\" class=\"data row0 col2\" >0.840000</td>\n",
       "    </tr>\n",
       "    <tr>\n",
       "      <th id=\"T_c65e4_level0_row1\" class=\"row_heading level0 row1\" >1</th>\n",
       "      <td id=\"T_c65e4_row1_col0\" class=\"data row1 col0\" >KNN</td>\n",
       "      <td id=\"T_c65e4_row1_col1\" class=\"data row1 col1\" >0.820000</td>\n",
       "      <td id=\"T_c65e4_row1_col2\" class=\"data row1 col2\" >0.850000</td>\n",
       "    </tr>\n",
       "    <tr>\n",
       "      <th id=\"T_c65e4_level0_row2\" class=\"row_heading level0 row2\" >2</th>\n",
       "      <td id=\"T_c65e4_row2_col0\" class=\"data row2 col0\" >Naive Bayes</td>\n",
       "      <td id=\"T_c65e4_row2_col1\" class=\"data row2 col1\" >0.850000</td>\n",
       "      <td id=\"T_c65e4_row2_col2\" class=\"data row2 col2\" >0.870000</td>\n",
       "    </tr>\n",
       "    <tr>\n",
       "      <th id=\"T_c65e4_level0_row3\" class=\"row_heading level0 row3\" >3</th>\n",
       "      <td id=\"T_c65e4_row3_col0\" class=\"data row3 col0\" >Logistic Regression</td>\n",
       "      <td id=\"T_c65e4_row3_col1\" class=\"data row3 col1\" >0.840000</td>\n",
       "      <td id=\"T_c65e4_row3_col2\" class=\"data row3 col2\" >0.860000</td>\n",
       "    </tr>\n",
       "  </tbody>\n",
       "</table>\n"
      ],
      "text/plain": [
       "<pandas.io.formats.style.Styler at 0x13ba7b2e0>"
      ]
     },
     "execution_count": 53,
     "metadata": {},
     "output_type": "execute_result"
    }
   ],
   "source": [
    "# Model names\n",
    "models = ['Decision Tree', 'KNN', 'Naive Bayes', 'Logistic Regression']\n",
    "\n",
    "# Accuracy scores and f1 scores\n",
    "accuracy_scores = [0.81, 0.82, 0.85, 0.84]\n",
    "f1_scores = [0.84, 0.85, 0.87, 0.86]\n",
    "\n",
    "# Dictionary of the scores\n",
    "scores_dict = {'Model': models, 'Accuracy': accuracy_scores, 'F1 Score': f1_scores}\n",
    "\n",
    "# Create a pandas dataframe from the dictionary\n",
    "scores_df = pd.DataFrame(scores_dict)\n",
    "\n",
    "scores_df.style.background_gradient(cmap=\"Set3\")\n"
   ]
  },
  {
   "cell_type": "code",
   "execution_count": 54,
   "id": "ee3b962c",
   "metadata": {},
   "outputs": [
    {
     "data": {
      "image/png": "[encoded data removed]",
      "text/plain": [
       "<Figure size 640x480 with 1 Axes>"
      ]
     },
     "metadata": {},
     "output_type": "display_data"
    }
   ],
   "source": [
    "fig, ax = plt.subplots()\n",
    "ax.barh(models, accuracy_scores, color=['r','orange', 'green', 'b'])\n",
    "\n",
    "# set title and labels\n",
    "ax.set_title('Model Accuracy Scores', size=18)\n",
    "ax.set_xlabel('Model')\n",
    "ax.set_ylabel('Accuracy')\n",
    "\n",
    "# display the plot\n",
    "plt.savefig('Model_Accuracy_Score.pdf')\n",
    "plt.show()"
   ]
  },
  {
   "cell_type": "markdown",
   "id": "d449c585",
   "metadata": {},
   "source": [
    "The Naive Bayes Model had the highes accuracy and F1 score.\n",
    "\n",
    "<br> \n",
    "\n",
    "## ROC curve:\n",
    "\n",
    "The ROC curve displays the performance of a classification model at all classification thresholds. It plots the true positive rate vs the false positive rate\n",
    "\n",
    "The true positive rate (TPRate) is given by,\n",
    "$$TPRate = \\frac{TP}{TP + TN}$$\n",
    "\n",
    "The false positive rate (FPRate) is given by,\n",
    "$$FPRate = \\frac{FP}{FP + TN}$$\n",
    "\n",
    "Better classifiers will produce an ROC curve that is closer to the top-left corner, therefore giving a larger AUC (area under the curve)."
   ]
  },
  {
   "cell_type": "code",
   "execution_count": 55,
   "id": "4baadf27",
   "metadata": {},
   "outputs": [
    {
     "data": {
      "image/png": "[encoded data removed]",
      "text/plain": [
       "<Figure size 800x600 with 1 Axes>"
      ]
     },
     "metadata": {},
     "output_type": "display_data"
    }
   ],
   "source": [
    "import matplotlib.pyplot as plt\n",
    "from sklearn.metrics import roc_curve, auc\n",
    "\n",
    "plt.figure(figsize=(8, 6))\n",
    "\n",
    "# Decision Tree Classifier ROC Curve\n",
    "y_probs_dt = dt.predict_proba(x_test)[:, 1]  # Positive class probabilities\n",
    "fpr_dt, tpr_dt, _ = roc_curve(y_test, y_probs_dt)  # Calculate ROC curve\n",
    "roc_auc_dt = auc(fpr_dt, tpr_dt)  # Calculate AUC\n",
    "plt.plot(fpr_dt, tpr_dt, label=f'Decision Tree (AUC = {roc_auc_dt:.2f})')\n",
    "\n",
    "# KNN Classifier ROC Curve\n",
    "y_probs_knn = knn.predict_proba(x_test)[:, 1]\n",
    "fpr_knn, tpr_knn, _ = roc_curve(y_test, y_probs_knn) \n",
    "roc_auc_knn = auc(fpr_knn, tpr_knn)  \n",
    "plt.plot(fpr_knn, tpr_knn, label=f'KNN (AUC = {roc_auc_knn:.2f})')\n",
    "\n",
    "# Naive Bayes Classifier ROC Curve\n",
    "y_probs_nb = nb.predict_proba(x_test)[:, 1]  \n",
    "fpr_nb, tpr_nb, _ = roc_curve(y_test, y_probs_nb)  \n",
    "roc_auc_nb = auc(fpr_nb, tpr_nb)  \n",
    "plt.plot(fpr_nb, tpr_nb, label=f'Naive Bayes (AUC = {roc_auc_nb:.2f})')\n",
    "\n",
    "# Logistic Regression Classifier ROC Curve\n",
    "y_probs_log = log_model.predict_proba(x_test)[:, 1] \n",
    "fpr_log, tpr_log, _ = roc_curve(y_test, y_probs_log)  \n",
    "roc_auc_log = auc(fpr_log, tpr_log)  \n",
    "plt.plot(fpr_log, tpr_log, label=f'Logistic Regression (AUC = {roc_auc_log:.2f})')\n",
    "\n",
    "# adding diagonal line The diagonal line on the ROC curve plot represents a baseline for a random classifier, which essentially means that it performs no better than random guessing\n",
    "plt.plot([0, 1], [0, 1], 'k--')  # Diagonal line\n",
    "plt.xlim([0.0, 1.0])\n",
    "plt.ylim([0.0, 1.0])\n",
    "plt.title('ROC Curves')\n",
    "plt.xlabel('False Positive Rate')\n",
    "plt.ylabel('True Positive Rate')\n",
    "plt.legend(loc='lower right')\n",
    "plt.show()"
   ]
  },
  {
   "cell_type": "markdown",
   "id": "8bf0e21e",
   "metadata": {},
   "source": [
    "The area under the ROC curve is 0.80, 0.88, 0.92, and 0.91 for the Decision Tree, K-NN, Naïve Bayes, and Logistic Regression classification models respectively. Therefore, the naïve bayes is a better classifier than the other two.\n",
    "\n",
    "I was satisfied with the performance of the Naïve bayes classification model as normally an AUC of the ROC curve should be ≥ 0.85 to be considered a reliable classfier."
   ]
  },
  {
   "cell_type": "code",
   "execution_count": null,
   "id": "551b77aa",
   "metadata": {},
   "outputs": [],
   "source": []
  }
 ],
 "metadata": {
  "kernelspec": {
   "display_name": "Python 3 (ipykernel)",
   "language": "python",
   "name": "python3"
  },
  "language_info": {
   "codemirror_mode": {
    "name": "ipython",
    "version": 3
   },
   "file_extension": ".py",
   "mimetype": "text/x-python",
   "name": "python",
   "nbconvert_exporter": "python",
   "pygments_lexer": "ipython3",
   "version": "3.10.12"
  }
 },
 "nbformat": 4,
 "nbformat_minor": 5
}
