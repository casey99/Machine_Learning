{
 "cells": [
  {
   "cell_type": "code",
   "execution_count": 18,
   "metadata": {},
   "outputs": [],
   "source": [
    "from sklearn.datasets import fetch_openml\n",
    "import pandas as pd\n",
    "# import tensorflow as tf\n",
    "from sklearn.model_selection import train_test_split\n",
    "from sklearn.preprocessing import StandardScaler\n",
    "import matplotlib.pyplot as plt\n",
    "import numpy as np"
   ]
  },
  {
   "cell_type": "code",
   "execution_count": 19,
   "metadata": {},
   "outputs": [],
   "source": [
    "mnist = fetch_openml('mnist_784', as_frame=False)\n",
    "data = mnist.data\n",
    "target = mnist.target.astype(np.uint8)\n",
    "\n",
    "X_train, X_test, y_train, y_test = train_test_split(data, target, test_size=0.5, random_state=42)\n",
    "X_train = X_train / 255.0  # Normalise pixel values\n",
    "X_test = X_test / 255.0"
   ]
  },
  {
   "cell_type": "code",
   "execution_count": 20,
   "metadata": {},
   "outputs": [],
   "source": [
    "# Initialise params using Xavier initialisation\n",
    "def init_params():\n",
    "    w1 = np.random.randn(10, 784) * np.sqrt(2 / 784)  # Xavier initialisation\n",
    "    b1 = np.zeros((10, 1))\n",
    "    w2 = np.random.randn(10, 10) * np.sqrt(2 / 10)  # Xavier initialisation\n",
    "    b2 = np.zeros((10, 1))\n",
    "    return w1, b1, w2, b2\n",
    "\n",
    "# Define ReLU activation function\n",
    "def ReLU(z):\n",
    "    return np.maximum(z, 0)\n",
    "\n",
    "# Define softmax activation function\n",
    "def softmax(z):\n",
    "    exp_z = np.exp(z - np.max(z))  # Subtracting max(z) for numerical stability\n",
    "    return exp_z / np.sum(exp_z, axis=0, keepdims=True)\n",
    "\n",
    "# Forward propagation\n",
    "def forward_prop(w1, b1, w2, b2, X):\n",
    "    z1 = np.dot(w1, X.T) + b1\n",
    "    a1 = ReLU(z1)\n",
    "    z2 = np.dot(w2, a1) + b2\n",
    "    a2 = softmax(z2)\n",
    "    return z1, a1, z2, a2\n",
    "\n",
    "# Backward propagation\n",
    "def backward_prop(z1, a1, z2, a2, w1, w2, X, y):\n",
    "    m = X.shape[0]\n",
    "    one_hot_y = one_hot(y)\n",
    "    dz2 = a2 - one_hot_y\n",
    "    dw2 = (1 / m) * np.dot(dz2, a1.T)\n",
    "    db2 = (1 / m) * np.sum(dz2, axis=1, keepdims=True)\n",
    "    dz1 = np.dot(w2.T, dz2) * ReLU_deriv(z1)\n",
    "    dw1 = (1 / m) * np.dot(dz1, X)\n",
    "    db1 = (1 / m) * np.sum(dz1, axis=1, keepdims=True)\n",
    "    return dw1, db1, dw2, db2\n",
    "\n",
    "# Update parameters\n",
    "def update_params(w1, b1, w2, b2, dw1, db1, dw2, db2, alpha):\n",
    "    w1 -= alpha * dw1\n",
    "    b1 -= alpha * db1\n",
    "    w2 -= alpha * dw2\n",
    "    b2 -= alpha * db2\n",
    "    return w1, b1, w2, b2\n",
    "\n",
    "# One-hot encoding\n",
    "def one_hot(y):\n",
    "    one_hot_y = np.zeros((y.size, y.max() + 1))\n",
    "    one_hot_y[np.arange(y.size), y] = 1\n",
    "    return one_hot_y.T\n",
    "\n",
    "# ReLU derivative\n",
    "def ReLU_deriv(z):\n",
    "    return z > 0\n",
    "\n",
    "# Training the neural network\n",
    "def train_neural_network(X_train, y_train, alpha, epochs):\n",
    "    w1, b1, w2, b2 = init_params()\n",
    "    for i in range(epochs):\n",
    "        z1, a1, z2, a2 = forward_prop(w1, b1, w2, b2, X_train)\n",
    "        dw1, db1, dw2, db2 = backward_prop(z1, a1, z2, a2, w1, w2, X_train, y_train)\n",
    "        w1, b1, w2, b2 = update_params(w1, b1, w2, b2, dw1, db1, dw2, db2, alpha)\n",
    "        if i % 10 == 0:\n",
    "            train_loss = compute_loss(a2, one_hot(y_train))\n",
    "            print(f\"Iteration: {i}, Training Loss: {train_loss}\")\n",
    "    return w1, b1, w2, b2\n",
    "\n",
    "# Compute cross-entropy loss\n",
    "def compute_loss(a2, y):\n",
    "    m = y.shape[1]\n",
    "    return -np.sum(y * np.log(a2)) / m\n",
    "\n",
    "# Test the trained model\n",
    "def test_neural_network(X_test, y_test, w1, b1, w2, b2):\n",
    "    z1, a1, z2, a2 = forward_prop(w1, b1, w2, b2, X_test)\n",
    "    predictions = get_predictions(a2)\n",
    "    accuracy = get_accuracy(predictions, y_test)\n",
    "    print(f\"Test Accuracy: {accuracy}\")\n",
    "\n",
    "# Get predictions\n",
    "def get_predictions(a2):\n",
    "    return np.argmax(a2, axis=0)\n",
    "\n",
    "# Get accuracy\n",
    "def get_accuracy(predictions, y):\n",
    "    return np.mean(predictions == y) * 100"
   ]
  },
  {
   "cell_type": "code",
   "execution_count": 23,
   "metadata": {},
   "outputs": [
    {
     "name": "stdout",
     "output_type": "stream",
     "text": [
      "Epoch Number: 0/100\n",
      "    Training Accuracy: 11.134285714285715\n",
      "    Test Accuracy: 17.119999999999997\n",
      "-----------------------------------------------------------------------\n",
      "Epoch Number: 10/100\n",
      "    Training Accuracy: 32.362857142857145\n",
      "    Test Accuracy: 33.12571428571429\n",
      "-----------------------------------------------------------------------\n",
      "Epoch Number: 20/100\n",
      "    Training Accuracy: 45.59142857142857\n",
      "    Test Accuracy: 45.98571428571429\n",
      "-----------------------------------------------------------------------\n",
      "Epoch Number: 30/100\n",
      "    Training Accuracy: 55.23142857142857\n",
      "    Test Accuracy: 55.817142857142855\n",
      "-----------------------------------------------------------------------\n",
      "Epoch Number: 40/100\n",
      "    Training Accuracy: 63.64857142857143\n",
      "    Test Accuracy: 63.92285714285715\n",
      "-----------------------------------------------------------------------\n",
      "Epoch Number: 50/100\n",
      "    Training Accuracy: 70.07142857142857\n",
      "    Test Accuracy: 70.52571428571429\n",
      "-----------------------------------------------------------------------\n",
      "Epoch Number: 60/100\n",
      "    Training Accuracy: 75.22571428571429\n",
      "    Test Accuracy: 75.43714285714286\n",
      "-----------------------------------------------------------------------\n",
      "Epoch Number: 70/100\n",
      "    Training Accuracy: 78.09428571428572\n",
      "    Test Accuracy: 78.35142857142857\n",
      "-----------------------------------------------------------------------\n",
      "Epoch Number: 80/100\n",
      "    Training Accuracy: 80.03428571428572\n",
      "    Test Accuracy: 80.10000000000001\n",
      "-----------------------------------------------------------------------\n",
      "Epoch Number: 90/100\n",
      "    Training Accuracy: 81.55714285714286\n",
      "    Test Accuracy: 81.44571428571429\n",
      "-----------------------------------------------------------------------\n",
      "Epoch Number: 100/100\n",
      "    Training Accuracy: 82.62857142857143\n",
      "    Test Accuracy: 82.43142857142857\n",
      "-----------------------------------------------------------------------\n"
     ]
    }
   ],
   "source": [
    "def gradient_descent(X, y, X_test, y_test, epochs, alpha):\n",
    "    w1, b1, w2, b2 = init_params()\n",
    "    \n",
    "    for i in range(epochs + 1):\n",
    "        z1, a1, z2, a2 = forward_prop(w1, b1, w2, b2, X)\n",
    "        dw1, db1, dw2, db2 = backward_prop(z1, a1, z2, a2, w1, w2, X, y)\n",
    "        w1, b1, w2, b2 = update_params(w1, b1, w2, b2, dw1, db1, dw2, db2, alpha)\n",
    "        \n",
    "        if i % 10 == 0 or i == epochs:\n",
    "            print(f\"Epoch Number: {i}/{epochs}\")\n",
    "            train_predictions = get_predictions(a2)\n",
    "            train_accuracy = get_accuracy(train_predictions, y)\n",
    "            print(\"    Training Accuracy:\", train_accuracy)\n",
    "            \n",
    "            # Forward propagation for test set\n",
    "            _, _, _, a2_test = forward_prop(w1, b1, w2, b2, X_test)\n",
    "            test_predictions = get_predictions(a2_test)\n",
    "            test_accuracy = get_accuracy(test_predictions, y_test)\n",
    "            print(\"    Test Accuracy:\", test_accuracy)\n",
    "            print(\"-----------------------------------------------------------------------\")\n",
    "    \n",
    "    return w1, b1, w2, b2\n",
    "\n",
    "\n",
    "epochs = 100\n",
    "alpha = 0.1\n",
    "\n",
    "w1, b1, w2, b2 = gradient_descent(X_train, y_train, X_test, y_test, epochs, alpha)\n"
   ]
  },
  {
   "cell_type": "code",
   "execution_count": 25,
   "metadata": {},
   "outputs": [
    {
     "data": {
      "text/plain": [
       "82.43142857142857"
      ]
     },
     "execution_count": 25,
     "metadata": {},
     "output_type": "execute_result"
    }
   ],
   "source": [
    "def predict(X, w1, b1, w2, b2):\n",
    "    _, _, _, A2 = forward_prop(w1, b1, w2, b2, X)\n",
    "    predictions = get_predictions(A2)\n",
    "    return predictions\n",
    "\n",
    "def test_prediction(index, w1, b1, w2, b2):\n",
    "    current_image = X_train[index, :]\n",
    "    prediction_array = predict(current_image, w1, b1, w2, b2)\n",
    "    prediction = np.argmax(prediction_array)  # Select the label with the highest probability\n",
    "    label = y_train[index]\n",
    "    print(\"Prediction: \", prediction)\n",
    "    print(\"Label: \", label)\n",
    "    \n",
    "    current_image = current_image.reshape((28, 28)) * 255\n",
    "    plt.gray()\n",
    "    plt.imshow(current_image, interpolation='nearest')\n",
    "    plt.show()\n",
    "\n",
    "test_predictions = predict(X_test, w1, b1, w2, b2)\n",
    "get_accuracy(test_predictions, y_test)"
   ]
  },
  {
   "cell_type": "code",
   "execution_count": 30,
   "metadata": {},
   "outputs": [
    {
     "data": {
      "image/png": "[encoded data removed]",
      "text/plain": [
       "<Figure size 1000x500 with 10 Axes>"
      ]
     },
     "metadata": {},
     "output_type": "display_data"
    }
   ],
   "source": [
    "def plot_images(images, predictions, labels):\n",
    "    plt.figure(figsize=(10, 5))\n",
    "    for i in range(10):\n",
    "        plt.subplot(2, 5, i + 1)\n",
    "        plt.imshow(images[i].reshape(28, 28), cmap='gray')\n",
    "        plt.title(f\"Model Prediction: {predictions[i]}, \\nTrue Label: {labels[i]}\")\n",
    "        plt.axis('off')\n",
    "    plt.tight_layout()\n",
    "    plt.show()\n",
    "\n",
    "#np.random.seed(42)\n",
    "\n",
    "# Pick 10 random indices from the testelopment set\n",
    "random_indices = np.random.choice(len(X_test), size=10, replace=False)\n",
    "random_images = X_test[random_indices]\n",
    "random_predictions = test_predictions[random_indices]\n",
    "random_labels = y_test[random_indices]\n",
    "plot_images(random_images, random_predictions, random_labels)"
   ]
  },
  {
   "cell_type": "code",
   "execution_count": null,
   "metadata": {},
   "outputs": [],
   "source": []
  }
 ],
 "metadata": {
  "kernelspec": {
   "display_name": "Python 3 (ipykernel)",
   "language": "python",
   "name": "python3"
  },
  "language_info": {
   "codemirror_mode": {
    "name": "ipython",
    "version": 3
   },
   "file_extension": ".py",
   "mimetype": "text/x-python",
   "name": "python",
   "nbconvert_exporter": "python",
   "pygments_lexer": "ipython3",
   "version": "3.10.12"
  },
  "vscode": {
   "interpreter": {
    "hash": "aee8b7b246df8f9039afb4144a1f6fd8d2ca17a180786b69acc140d282b71a49"
   }
  }
 },
 "nbformat": 4,
 "nbformat_minor": 2
}
