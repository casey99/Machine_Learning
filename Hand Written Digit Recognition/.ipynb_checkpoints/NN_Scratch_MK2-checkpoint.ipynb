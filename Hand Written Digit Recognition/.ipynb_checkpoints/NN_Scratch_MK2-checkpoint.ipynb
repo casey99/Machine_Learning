{
 "cells": [
  {
   "cell_type": "code",
   "execution_count": 9,
   "metadata": {},
   "outputs": [],
   "source": [
    "from sklearn.datasets import fetch_openml\n",
    "import pandas as pd\n",
    "# import tensorflow as tf\n",
    "from sklearn.model_selection import train_test_split\n",
    "from sklearn.preprocessing import StandardScaler\n",
    "import matplotlib.pyplot as plt\n",
    "import numpy as np"
   ]
  },
  {
   "cell_type": "code",
   "execution_count": 10,
   "metadata": {},
   "outputs": [],
   "source": [
    "mnist = fetch_openml('mnist_784', as_frame=False)\n",
    "data = mnist.data\n",
    "target = mnist.target.astype(np.uint8)\n",
    "\n",
    "X_train, X_test, y_train, y_test = train_test_split(data, target, test_size=0.5, random_state=42)\n",
    "X_train = X_train / 255.0  # Normalise pixel values\n",
    "X_test = X_test / 255.0"
   ]
  },
  {
   "cell_type": "code",
   "execution_count": 11,
   "metadata": {},
   "outputs": [],
   "source": [
    "# Initialise params using Xavier initialisation\n",
    "def init_params():\n",
    "    w1 = np.random.randn(10, 784) * np.sqrt(2 / 784)  # Xavier initialisation\n",
    "    b1 = np.zeros((10, 1))\n",
    "    w2 = np.random.randn(10, 10) * np.sqrt(2 / 10)  # Xavier initialisation\n",
    "    b2 = np.zeros((10, 1))\n",
    "    return w1, b1, w2, b2\n",
    "\n",
    "# Define ReLU activation function\n",
    "def ReLU(z):\n",
    "    return np.maximum(z, 0)\n",
    "\n",
    "# Define softmax activation function\n",
    "def softmax(z):\n",
    "    exp_z = np.exp(z - np.max(z))  # Subtracting max(z) for numerical stability\n",
    "    return exp_z / np.sum(exp_z, axis=0, keepdims=True)\n",
    "\n",
    "# Forward propagation\n",
    "def forward_prop(w1, b1, w2, b2, X):\n",
    "    z1 = np.dot(w1, X.T) + b1\n",
    "    a1 = ReLU(z1)\n",
    "    z2 = np.dot(w2, a1) + b2\n",
    "    a2 = softmax(z2)\n",
    "    return z1, a1, z2, a2\n",
    "\n",
    "# Backward propagation\n",
    "def backward_prop(z1, a1, z2, a2, w1, w2, X, y):\n",
    "    m = X.shape[0]\n",
    "    one_hot_y = one_hot(y)\n",
    "    dz2 = a2 - one_hot_y\n",
    "    dw2 = (1 / m) * np.dot(dz2, a1.T)\n",
    "    db2 = (1 / m) * np.sum(dz2, axis=1, keepdims=True)\n",
    "    dz1 = np.dot(w2.T, dz2) * ReLU_deriv(z1)\n",
    "    dw1 = (1 / m) * np.dot(dz1, X)\n",
    "    db1 = (1 / m) * np.sum(dz1, axis=1, keepdims=True)\n",
    "    return dw1, db1, dw2, db2\n",
    "\n",
    "# Update parameters\n",
    "def update_params(w1, b1, w2, b2, dw1, db1, dw2, db2, alpha):\n",
    "    w1 -= alpha * dw1\n",
    "    b1 -= alpha * db1\n",
    "    w2 -= alpha * dw2\n",
    "    b2 -= alpha * db2\n",
    "    return w1, b1, w2, b2\n",
    "\n",
    "# One-hot encoding\n",
    "def one_hot(y):\n",
    "    one_hot_y = np.zeros((y.size, y.max() + 1))\n",
    "    one_hot_y[np.arange(y.size), y] = 1\n",
    "    return one_hot_y.T\n",
    "\n",
    "# ReLU derivative\n",
    "def ReLU_deriv(z):\n",
    "    return z > 0\n",
    "\n",
    "# Training the neural network\n",
    "def train_neural_network(X_train, y_train, alpha, epochs):\n",
    "    w1, b1, w2, b2 = init_params()\n",
    "    for i in range(epochs):\n",
    "        z1, a1, z2, a2 = forward_prop(w1, b1, w2, b2, X_train)\n",
    "        dw1, db1, dw2, db2 = backward_prop(z1, a1, z2, a2, w1, w2, X_train, y_train)\n",
    "        w1, b1, w2, b2 = update_params(w1, b1, w2, b2, dw1, db1, dw2, db2, alpha)\n",
    "        if i % 10 == 0:\n",
    "            train_loss = compute_loss(a2, one_hot(y_train))\n",
    "            print(f\"Iteration: {i}, Training Loss: {train_loss}\")\n",
    "    return w1, b1, w2, b2\n",
    "\n",
    "# Compute cross-entropy loss\n",
    "def compute_loss(a2, y):\n",
    "    m = y.shape[1]\n",
    "    return -np.sum(y * np.log(a2)) / m\n",
    "\n",
    "# Test the trained model\n",
    "def test_neural_network(X_test, y_test, w1, b1, w2, b2):\n",
    "    z1, a1, z2, a2 = forward_prop(w1, b1, w2, b2, X_test)\n",
    "    predictions = get_predictions(a2)\n",
    "    accuracy = get_accuracy(predictions, y_test)\n",
    "    print(f\"Test Accuracy: {accuracy}\")\n",
    "\n",
    "# Get predictions\n",
    "def get_predictions(a2):\n",
    "    return np.argmax(a2, axis=0)\n",
    "\n",
    "# Get accuracy\n",
    "def get_accuracy(predictions, y):\n",
    "    return np.mean(predictions == y) * 100"
   ]
  },
  {
   "cell_type": "code",
   "execution_count": 12,
   "metadata": {},
   "outputs": [
    {
     "name": "stdout",
     "output_type": "stream",
     "text": [
      "Epoch Number: 0/100\n",
      "    Training Accuracy: 12.78857142857143\n"
     ]
    },
    {
     "ename": "NameError",
     "evalue": "name 'predict' is not defined",
     "output_type": "error",
     "traceback": [
      "\u001b[0;31m---------------------------------------------------------------------------\u001b[0m",
      "\u001b[0;31mNameError\u001b[0m                                 Traceback (most recent call last)",
      "Cell \u001b[0;32mIn[12], line 20\u001b[0m\n\u001b[1;32m     18\u001b[0m epochs \u001b[38;5;241m=\u001b[39m \u001b[38;5;241m100\u001b[39m\n\u001b[1;32m     19\u001b[0m alpha \u001b[38;5;241m=\u001b[39m \u001b[38;5;241m0.1\u001b[39m\n\u001b[0;32m---> 20\u001b[0m w1, b1, w2, b2 \u001b[38;5;241m=\u001b[39m \u001b[43mgradient_descent\u001b[49m\u001b[43m(\u001b[49m\u001b[43mX_train\u001b[49m\u001b[43m,\u001b[49m\u001b[43m \u001b[49m\u001b[43my_train\u001b[49m\u001b[43m,\u001b[49m\u001b[43m \u001b[49m\u001b[43mepochs\u001b[49m\u001b[43m,\u001b[49m\u001b[43m \u001b[49m\u001b[43malpha\u001b[49m\u001b[43m)\u001b[49m\n",
      "Cell \u001b[0;32mIn[12], line 12\u001b[0m, in \u001b[0;36mgradient_descent\u001b[0;34m(X, y, epochs, alpha)\u001b[0m\n\u001b[1;32m     10\u001b[0m train_accuracy \u001b[38;5;241m=\u001b[39m get_accuracy(train_predictions, y)\n\u001b[1;32m     11\u001b[0m \u001b[38;5;28mprint\u001b[39m(\u001b[38;5;124m\"\u001b[39m\u001b[38;5;124m    Training Accuracy:\u001b[39m\u001b[38;5;124m\"\u001b[39m, train_accuracy)\n\u001b[0;32m---> 12\u001b[0m test_predictions \u001b[38;5;241m=\u001b[39m \u001b[43mpredict\u001b[49m(X_test, w1, b1, w2, b2)\n\u001b[1;32m     13\u001b[0m test_accuracy \u001b[38;5;241m=\u001b[39m get_accuracy(test_predictions, y_test)\n\u001b[1;32m     14\u001b[0m \u001b[38;5;28mprint\u001b[39m(\u001b[38;5;124m\"\u001b[39m\u001b[38;5;124m    Test Accuracy:\u001b[39m\u001b[38;5;124m\"\u001b[39m, test_accuracy)\n",
      "\u001b[0;31mNameError\u001b[0m: name 'predict' is not defined"
     ]
    }
   ],
   "source": [
    "def gradient_descent(X, y, epochs, alpha):\n",
    "    w1, b1, w2, b2 = init_params()\n",
    "    for i in range(epochs + 1):\n",
    "        z1, a1, z2, a2 = forward_prop(w1, b1, w2, b2, X)\n",
    "        dw1, db1, dw2, db2 = backward_prop(z1, a1, z2, a2, w1, w2, X, y)\n",
    "        w1, b1, w2, b2 = update_params(w1, b1, w2, b2, dw1, db1, dw2, db2, alpha)\n",
    "        if i % 10 == 0 or i == epochs:\n",
    "            print(f\"Epoch Number: {i}/{epochs}\")\n",
    "            train_predictions = get_predictions(a2)\n",
    "            train_accuracy = get_accuracy(train_predictions, y)\n",
    "            print(\"    Training Accuracy:\", train_accuracy)\n",
    "            test_predictions = predict(X_test, w1, b1, w2, b2)\n",
    "            test_accuracy = get_accuracy(test_predictions, y_test)\n",
    "            print(\"    Test Accuracy:\", test_accuracy)\n",
    "            print(\"-----------------------------------------------------------------------\")\n",
    "    return w1, b1, w2, b2\n",
    "\n",
    "epochs = 100\n",
    "alpha = 0.1\n",
    "w1, b1, w2, b2 = gradient_descent(X_train, y_train, epochs, alpha)"
   ]
  },
  {
   "cell_type": "code",
   "execution_count": null,
   "metadata": {},
   "outputs": [],
   "source": [
    "def predict(X, w1, b1, w2, b2):\n",
    "    _, _, _, A2 = forward_prop(w1, b1, w2, b2, X)\n",
    "    predictions = get_predictions(A2)\n",
    "    return predictions\n",
    "\n",
    "def test_prediction(index, w1, b1, w2, b2):\n",
    "    current_image = X_train[index, :]\n",
    "    prediction_array = predict(current_image, w1, b1, w2, b2)\n",
    "    prediction = np.argmax(prediction_array)  # Select the label with the highest probability\n",
    "    label = y_train[index]\n",
    "    print(\"Prediction: \", prediction)\n",
    "    print(\"Label: \", label)\n",
    "    \n",
    "    current_image = current_image.reshape((28, 28)) * 255\n",
    "    plt.gray()\n",
    "    plt.imshow(current_image, interpolation='nearest')\n",
    "    plt.show()\n",
    "\n",
    "test_predictions = predict(X_test, w1, b1, w2, b2)\n",
    "get_accuracy(test_predictions, y_test)"
   ]
  },
  {
   "cell_type": "code",
   "execution_count": 51,
   "metadata": {},
   "outputs": [
    {
     "data": {
      "image/png": "[encoded data removed]",
      "text/plain": [
       "<Figure size 1000x500 with 10 Axes>"
      ]
     },
     "metadata": {},
     "output_type": "display_data"
    }
   ],
   "source": [
    "def plot_images(images, predictions, labels):\n",
    "    plt.figure(figsize=(10, 5))\n",
    "    for i in range(10):\n",
    "        plt.subplot(2, 5, i + 1)\n",
    "        plt.imshow(images[i].reshape(28, 28), cmap='gray')\n",
    "        plt.title(f\"Model Prediction: {predictions[i]}, \\nTrue Label: {labels[i]}\")\n",
    "        plt.axis('off')\n",
    "    plt.tight_layout()\n",
    "    plt.show()\n",
    "\n",
    "#np.random.seed(42)\n",
    "\n",
    "# Pick 10 random indices from the testelopment set\n",
    "random_indices = np.random.choice(len(X_test), size=10, replace=False)\n",
    "random_images = X_test[random_indices]\n",
    "random_predictions = test_predictions[random_indices]\n",
    "random_labels = y_test[random_indices]\n",
    "plot_images(random_images, random_predictions, random_labels)"
   ]
  },
  {
   "cell_type": "code",
   "execution_count": null,
   "metadata": {},
   "outputs": [],
   "source": []
  }
 ],
 "metadata": {
  "kernelspec": {
   "display_name": "Python 3 (ipykernel)",
   "language": "python",
   "name": "python3"
  },
  "language_info": {
   "codemirror_mode": {
    "name": "ipython",
    "version": 3
   },
   "file_extension": ".py",
   "mimetype": "text/x-python",
   "name": "python",
   "nbconvert_exporter": "python",
   "pygments_lexer": "ipython3",
   "version": "3.10.12"
  },
  "vscode": {
   "interpreter": {
    "hash": "aee8b7b246df8f9039afb4144a1f6fd8d2ca17a180786b69acc140d282b71a49"
   }
  }
 },
 "nbformat": 4,
 "nbformat_minor": 2
}
